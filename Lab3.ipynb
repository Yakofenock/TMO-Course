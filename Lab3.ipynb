{
 "cells": [
  {
   "cell_type": "markdown",
   "id": "61f0104c",
   "metadata": {},
   "source": [
    "# Задание лабораторной работы"
   ]
  },
  {
   "cell_type": "markdown",
   "id": "8a69da4b",
   "metadata": {},
   "source": [
    "- Выбрать набор данных (датасет) для решения задачи классификации или регрессии.\n",
    "- С использованием метода train_test_split разделить выборку на обучающую и тестовую.\n",
    "- Обучить модель ближайших соседей для произвольно заданного гиперпараметра K. Оценить качество модели с помощью подходящих для задачи метрик.\n",
    "- Произвести подбор гиперпараметра K с использованием GridSearchCV и/или RandomizedSearchCV и кросс-валидации, оценить качество оптимальной модели. Желательно использование нескольких стратегий кросс-валидации.\n",
    "- Сравнить метрики качества исходной и оптимальной моделей."
   ]
  },
  {
   "cell_type": "markdown",
   "id": "b60fced9",
   "metadata": {},
   "source": [
    "## Выбор и загрузка данных"
   ]
  },
  {
   "cell_type": "markdown",
   "id": "2aeedf3d",
   "metadata": {},
   "source": [
    "В качестве датасета будем использовать набор данных, содержащий данные различных химических элементов"
   ]
  },
  {
   "cell_type": "markdown",
   "id": "fe87c14c",
   "metadata": {},
   "source": [
    "Набор данных имеет следующие атрибуты:"
   ]
  },
  {
   "cell_type": "markdown",
   "id": "0c01e68e",
   "metadata": {},
   "source": [
    "- RI - Refractive Index - коэффициент преломления\n",
    "- Na - Sodium - Содержание натрия (массовый процент в соответствующем оксиде)\n",
    "- Mg - Magnesium - Содержание магния\n",
    "- Al - Aluminum - Содержание алюминия\n",
    "- Si - Silicon - Содержание кремния\n",
    "- K -  Potassium - Содержание калия\n",
    "- Ca - Calcium - Содержание кальция\n",
    "- Ba - Barium - Содеражние бария\n",
    "- Fe - Iron - Содержание железа\n",
    "- Type - Type of glass - тип стекла (1, 2 - стекла для зданий, 3, 4 - стекла для автомобилей, 5 - стеклотара, 6 - tableware - бытовые стекла, 7 - стекла для ламп; 4 отсутствует в данном наборе данных)"
   ]
  },
  {
   "cell_type": "markdown",
   "id": "6bfdc9dc",
   "metadata": {},
   "source": [
    "### Импорт библиотек"
   ]
  },
  {
   "cell_type": "markdown",
   "id": "1acbb3a0",
   "metadata": {},
   "source": [
    "Импортируем библиотеки с помощью команды import:"
   ]
  },
  {
   "cell_type": "code",
   "execution_count": 1,
   "id": "386d432d",
   "metadata": {},
   "outputs": [],
   "source": [
    "import numpy as np\n",
    "import pandas as pd\n",
    "import seaborn as sns\n",
    "import matplotlib.pyplot as plt\n",
    "%matplotlib inline\n",
    "sns.set(style=\"ticks\")"
   ]
  },
  {
   "cell_type": "markdown",
   "id": "1104311e",
   "metadata": {},
   "source": [
    "### Загрузка данных"
   ]
  },
  {
   "cell_type": "markdown",
   "id": "f0a50012",
   "metadata": {},
   "source": [
    "Загрузим набор данных:"
   ]
  },
  {
   "cell_type": "code",
   "execution_count": 2,
   "id": "3d6f1637",
   "metadata": {},
   "outputs": [],
   "source": [
    "data = pd.read_csv('glass.csv')"
   ]
  },
  {
   "cell_type": "markdown",
   "id": "60b499dd",
   "metadata": {},
   "source": [
    "## Первичный анализ и обрабока данных"
   ]
  },
  {
   "cell_type": "markdown",
   "id": "f8fb4fca",
   "metadata": {},
   "source": [
    "Выведем первые 5 строк датасета:"
   ]
  },
  {
   "cell_type": "code",
   "execution_count": 3,
   "id": "03f7dae5",
   "metadata": {},
   "outputs": [
    {
     "data": {
      "text/html": [
       "<div>\n",
       "<style scoped>\n",
       "    .dataframe tbody tr th:only-of-type {\n",
       "        vertical-align: middle;\n",
       "    }\n",
       "\n",
       "    .dataframe tbody tr th {\n",
       "        vertical-align: top;\n",
       "    }\n",
       "\n",
       "    .dataframe thead th {\n",
       "        text-align: right;\n",
       "    }\n",
       "</style>\n",
       "<table border=\"1\" class=\"dataframe\">\n",
       "  <thead>\n",
       "    <tr style=\"text-align: right;\">\n",
       "      <th></th>\n",
       "      <th>RI</th>\n",
       "      <th>Na</th>\n",
       "      <th>Mg</th>\n",
       "      <th>Al</th>\n",
       "      <th>Si</th>\n",
       "      <th>K</th>\n",
       "      <th>Ca</th>\n",
       "      <th>Ba</th>\n",
       "      <th>Fe</th>\n",
       "      <th>Type</th>\n",
       "    </tr>\n",
       "  </thead>\n",
       "  <tbody>\n",
       "    <tr>\n",
       "      <th>0</th>\n",
       "      <td>1.52101</td>\n",
       "      <td>13.64</td>\n",
       "      <td>4.49</td>\n",
       "      <td>1.10</td>\n",
       "      <td>71.78</td>\n",
       "      <td>0.06</td>\n",
       "      <td>8.75</td>\n",
       "      <td>0.0</td>\n",
       "      <td>0.0</td>\n",
       "      <td>1</td>\n",
       "    </tr>\n",
       "    <tr>\n",
       "      <th>1</th>\n",
       "      <td>1.51761</td>\n",
       "      <td>13.89</td>\n",
       "      <td>3.60</td>\n",
       "      <td>1.36</td>\n",
       "      <td>72.73</td>\n",
       "      <td>0.48</td>\n",
       "      <td>7.83</td>\n",
       "      <td>0.0</td>\n",
       "      <td>0.0</td>\n",
       "      <td>1</td>\n",
       "    </tr>\n",
       "    <tr>\n",
       "      <th>2</th>\n",
       "      <td>1.51618</td>\n",
       "      <td>13.53</td>\n",
       "      <td>3.55</td>\n",
       "      <td>1.54</td>\n",
       "      <td>72.99</td>\n",
       "      <td>0.39</td>\n",
       "      <td>7.78</td>\n",
       "      <td>0.0</td>\n",
       "      <td>0.0</td>\n",
       "      <td>1</td>\n",
       "    </tr>\n",
       "    <tr>\n",
       "      <th>3</th>\n",
       "      <td>1.51766</td>\n",
       "      <td>13.21</td>\n",
       "      <td>3.69</td>\n",
       "      <td>1.29</td>\n",
       "      <td>72.61</td>\n",
       "      <td>0.57</td>\n",
       "      <td>8.22</td>\n",
       "      <td>0.0</td>\n",
       "      <td>0.0</td>\n",
       "      <td>1</td>\n",
       "    </tr>\n",
       "    <tr>\n",
       "      <th>4</th>\n",
       "      <td>1.51742</td>\n",
       "      <td>13.27</td>\n",
       "      <td>3.62</td>\n",
       "      <td>1.24</td>\n",
       "      <td>73.08</td>\n",
       "      <td>0.55</td>\n",
       "      <td>8.07</td>\n",
       "      <td>0.0</td>\n",
       "      <td>0.0</td>\n",
       "      <td>1</td>\n",
       "    </tr>\n",
       "  </tbody>\n",
       "</table>\n",
       "</div>"
      ],
      "text/plain": [
       "        RI     Na    Mg    Al     Si     K    Ca   Ba   Fe  Type\n",
       "0  1.52101  13.64  4.49  1.10  71.78  0.06  8.75  0.0  0.0     1\n",
       "1  1.51761  13.89  3.60  1.36  72.73  0.48  7.83  0.0  0.0     1\n",
       "2  1.51618  13.53  3.55  1.54  72.99  0.39  7.78  0.0  0.0     1\n",
       "3  1.51766  13.21  3.69  1.29  72.61  0.57  8.22  0.0  0.0     1\n",
       "4  1.51742  13.27  3.62  1.24  73.08  0.55  8.07  0.0  0.0     1"
      ]
     },
     "execution_count": 3,
     "metadata": {},
     "output_type": "execute_result"
    }
   ],
   "source": [
    "data.head()"
   ]
  },
  {
   "cell_type": "markdown",
   "id": "121c4b68",
   "metadata": {},
   "source": [
    "Определим размер датасета и целевого признака (Type):"
   ]
  },
  {
   "cell_type": "code",
   "execution_count": 4,
   "id": "abbd46ff",
   "metadata": {},
   "outputs": [
    {
     "data": {
      "text/plain": [
       "((214, 10), (214,))"
      ]
     },
     "execution_count": 4,
     "metadata": {},
     "output_type": "execute_result"
    }
   ],
   "source": [
    "data.shape, data.Type.shape"
   ]
  },
  {
   "cell_type": "markdown",
   "id": "946095c6",
   "metadata": {},
   "source": [
    "### Разделение данных"
   ]
  },
  {
   "cell_type": "markdown",
   "id": "5e880992",
   "metadata": {},
   "source": [
    "Разделим данные на столбец с целевым признаком и данные с другими столбцами:"
   ]
  },
  {
   "cell_type": "code",
   "execution_count": 5,
   "id": "05c25a30",
   "metadata": {},
   "outputs": [],
   "source": [
    "X = data.drop(\"Type\", axis=1)\n",
    "y = data[\"Type\"]"
   ]
  },
  {
   "cell_type": "code",
   "execution_count": 6,
   "id": "cc7aff31",
   "metadata": {},
   "outputs": [
    {
     "name": "stdout",
     "output_type": "stream",
     "text": [
      "        RI     Na    Mg    Al     Si     K    Ca   Ba   Fe\n",
      "0  1.52101  13.64  4.49  1.10  71.78  0.06  8.75  0.0  0.0\n",
      "1  1.51761  13.89  3.60  1.36  72.73  0.48  7.83  0.0  0.0\n",
      "2  1.51618  13.53  3.55  1.54  72.99  0.39  7.78  0.0  0.0\n",
      "3  1.51766  13.21  3.69  1.29  72.61  0.57  8.22  0.0  0.0\n",
      "4  1.51742  13.27  3.62  1.24  73.08  0.55  8.07  0.0  0.0 \n",
      "\n",
      "0    1\n",
      "1    1\n",
      "2    1\n",
      "3    1\n",
      "4    1\n",
      "Name: Type, dtype: int64\n"
     ]
    }
   ],
   "source": [
    "print(X.head(), \"\\n\")\n",
    "print(y.head())"
   ]
  },
  {
   "cell_type": "code",
   "execution_count": 7,
   "id": "b83b06ca",
   "metadata": {},
   "outputs": [
    {
     "name": "stdout",
     "output_type": "stream",
     "text": [
      "(214, 9)\n",
      "(214,)\n"
     ]
    }
   ],
   "source": [
    "print(X.shape)\n",
    "print(y.shape)"
   ]
  },
  {
   "cell_type": "markdown",
   "id": "5ed046d6",
   "metadata": {},
   "source": [
    "### Разделение выборки на обучающую и тестовую"
   ]
  },
  {
   "cell_type": "markdown",
   "id": "81f048f1",
   "metadata": {},
   "source": [
    "Будем решать задачу классификации - отношения записи к определенному типу стекла."
   ]
  },
  {
   "cell_type": "markdown",
   "id": "19e89571",
   "metadata": {},
   "source": [
    "Разделим выборку с помощью функции train_test_split:"
   ]
  },
  {
   "cell_type": "code",
   "execution_count": 8,
   "id": "3103e1be",
   "metadata": {},
   "outputs": [],
   "source": [
    "from sklearn.model_selection import train_test_split"
   ]
  },
  {
   "cell_type": "code",
   "execution_count": 91,
   "id": "884d6305",
   "metadata": {},
   "outputs": [],
   "source": [
    "X_train, X_test, y_train, y_test = train_test_split(X, y, random_state=1)"
   ]
  },
  {
   "cell_type": "markdown",
   "id": "041c8834",
   "metadata": {},
   "source": [
    "Размеры обучающей выборки и тестовой выборки:"
   ]
  },
  {
   "cell_type": "code",
   "execution_count": 92,
   "id": "4575ae1e",
   "metadata": {},
   "outputs": [
    {
     "data": {
      "text/plain": [
       "((160, 9), (160,))"
      ]
     },
     "execution_count": 92,
     "metadata": {},
     "output_type": "execute_result"
    }
   ],
   "source": [
    "X_train.shape, y_train.shape"
   ]
  },
  {
   "cell_type": "code",
   "execution_count": 93,
   "id": "7bd2cd0d",
   "metadata": {},
   "outputs": [
    {
     "data": {
      "text/plain": [
       "((54, 9), (54,))"
      ]
     },
     "execution_count": 93,
     "metadata": {},
     "output_type": "execute_result"
    }
   ],
   "source": [
    "X_test.shape, y_test.shape"
   ]
  },
  {
   "cell_type": "markdown",
   "id": "fa1e2477",
   "metadata": {},
   "source": [
    "В выборках остались все типы стекол, доступные в изначальном датасете (4 отсутствует в исходном):"
   ]
  },
  {
   "cell_type": "code",
   "execution_count": 12,
   "id": "5c91e637",
   "metadata": {},
   "outputs": [
    {
     "data": {
      "text/plain": [
       "array([1, 2, 3, 5, 6, 7], dtype=int64)"
      ]
     },
     "execution_count": 12,
     "metadata": {},
     "output_type": "execute_result"
    }
   ],
   "source": [
    "np.unique(y_train)"
   ]
  },
  {
   "cell_type": "code",
   "execution_count": 13,
   "id": "73c31b98",
   "metadata": {},
   "outputs": [
    {
     "data": {
      "text/plain": [
       "array([1, 2, 3, 5, 6, 7], dtype=int64)"
      ]
     },
     "execution_count": 13,
     "metadata": {},
     "output_type": "execute_result"
    }
   ],
   "source": [
    "np.unique(y_test)"
   ]
  },
  {
   "cell_type": "markdown",
   "id": "9aa82f3a",
   "metadata": {},
   "source": [
    "Проверим распределение типов:"
   ]
  },
  {
   "cell_type": "code",
   "execution_count": 14,
   "id": "1097c099",
   "metadata": {},
   "outputs": [],
   "source": [
    "from typing import Dict, Tuple"
   ]
  },
  {
   "cell_type": "code",
   "execution_count": 15,
   "id": "b2e4cdf0",
   "metadata": {},
   "outputs": [],
   "source": [
    "def type_proportions(array: np.ndarray) -> Dict[int, Tuple[int, float]]:\n",
    "    labels, counts = np.unique(array, return_counts=True)\n",
    "    counts_perc = counts/array.size\n",
    "    res = dict()\n",
    "    for label, count2 in zip(labels, zip(counts, counts_perc)):\n",
    "        res[label] = count2\n",
    "    return res\n",
    "\n",
    "def print_type_proportions(array: np.ndarray):\n",
    "    proportions = type_proportions(array)\n",
    "    if len(proportions)>0:\n",
    "        print('Тип \\t Количество \\t Процент встречаемости')\n",
    "    for i in proportions:\n",
    "        val, val_perc = proportions[i]\n",
    "        val_perc_100 = round(val_perc * 100, 2)\n",
    "        print('{} \\t {} \\t \\t {}%'.format(i, val, val_perc_100))"
   ]
  },
  {
   "cell_type": "code",
   "execution_count": 16,
   "id": "e965c2e1",
   "metadata": {},
   "outputs": [
    {
     "name": "stdout",
     "output_type": "stream",
     "text": [
      "Тип \t Количество \t Процент встречаемости\n",
      "1 \t 70 \t \t 32.71%\n",
      "2 \t 76 \t \t 35.51%\n",
      "3 \t 17 \t \t 7.94%\n",
      "5 \t 13 \t \t 6.07%\n",
      "6 \t 9 \t \t 4.21%\n",
      "7 \t 29 \t \t 13.55%\n"
     ]
    }
   ],
   "source": [
    "print_type_proportions(data.Type)"
   ]
  },
  {
   "cell_type": "code",
   "execution_count": 17,
   "id": "69e75f6a",
   "metadata": {},
   "outputs": [
    {
     "name": "stdout",
     "output_type": "stream",
     "text": [
      "Тип \t Количество \t Процент встречаемости\n",
      "1 \t 47 \t \t 29.38%\n",
      "2 \t 60 \t \t 37.5%\n",
      "3 \t 10 \t \t 6.25%\n",
      "5 \t 12 \t \t 7.5%\n",
      "6 \t 8 \t \t 5.0%\n",
      "7 \t 23 \t \t 14.37%\n"
     ]
    }
   ],
   "source": [
    "print_type_proportions(y_train)"
   ]
  },
  {
   "cell_type": "code",
   "execution_count": 18,
   "id": "2566e248",
   "metadata": {},
   "outputs": [
    {
     "name": "stdout",
     "output_type": "stream",
     "text": [
      "Тип \t Количество \t Процент встречаемости\n",
      "1 \t 23 \t \t 42.59%\n",
      "2 \t 16 \t \t 29.63%\n",
      "3 \t 7 \t \t 12.96%\n",
      "5 \t 1 \t \t 1.85%\n",
      "6 \t 1 \t \t 1.85%\n",
      "7 \t 6 \t \t 11.11%\n"
     ]
    }
   ],
   "source": [
    "print_type_proportions(y_test)"
   ]
  },
  {
   "cell_type": "markdown",
   "id": "e5b57efe",
   "metadata": {},
   "source": [
    "Видим, что пропорции типов стекол приблизительно сохранились."
   ]
  },
  {
   "cell_type": "markdown",
   "id": "afa27ed8",
   "metadata": {},
   "source": [
    "## Построение модели ближайших соседей для произвольного гиперпараметра"
   ]
  },
  {
   "cell_type": "markdown",
   "id": "b7ee099b",
   "metadata": {},
   "source": [
    "Пусть гиперпараметр будет равен 20, построим модель:"
   ]
  },
  {
   "cell_type": "code",
   "execution_count": 19,
   "id": "77469fd9",
   "metadata": {},
   "outputs": [],
   "source": [
    "from sklearn.neighbors import KNeighborsClassifier"
   ]
  },
  {
   "cell_type": "code",
   "execution_count": 90,
   "id": "f926c220",
   "metadata": {},
   "outputs": [
    {
     "data": {
      "text/plain": [
       "(54,\n",
       " array([5, 7, 2, 2, 1, 1, 2, 1, 2, 1, 2, 1, 2, 1, 1, 2, 1, 1, 1, 1, 1, 7,\n",
       "        2, 1, 2, 1, 2, 2, 2, 1, 5, 7, 1, 1, 1, 1, 2, 2, 5, 1, 1, 7, 7, 1,\n",
       "        7, 1, 2, 1, 2, 7, 1, 2, 1, 2], dtype=int64))"
      ]
     },
     "execution_count": 90,
     "metadata": {},
     "output_type": "execute_result"
    }
   ],
   "source": [
    "clf_i = KNeighborsClassifier(n_neighbors=20)\n",
    "clf_i.fit(X_train, y_train)\n",
    "target_i = clf_i.predict(X_test)\n",
    "len(target_i), target_i"
   ]
  },
  {
   "cell_type": "markdown",
   "id": "eba1f865",
   "metadata": {},
   "source": [
    "Эту модель будем считать исходной."
   ]
  },
  {
   "cell_type": "markdown",
   "id": "ef99c81f",
   "metadata": {},
   "source": [
    "## Кросс-валидация и подбор гиперпараметра K через GridSearch и RandomizedSearch "
   ]
  },
  {
   "cell_type": "markdown",
   "id": "42fc89dd",
   "metadata": {},
   "source": [
    "### Кросс-валидация"
   ]
  },
  {
   "cell_type": "code",
   "execution_count": 21,
   "id": "44c80707",
   "metadata": {},
   "outputs": [],
   "source": [
    "from sklearn.model_selection import cross_val_score, cross_validate"
   ]
  },
  {
   "cell_type": "code",
   "execution_count": 22,
   "id": "3eededc6",
   "metadata": {},
   "outputs": [
    {
     "data": {
      "text/plain": [
       "array([0.91666667, 0.95774648, 0.95774648])"
      ]
     },
     "execution_count": 22,
     "metadata": {},
     "output_type": "execute_result"
    }
   ],
   "source": [
    "scores = cross_val_score(KNeighborsClassifier(n_neighbors=2), \n",
    "                         data, data.Type, cv=3)\n",
    "scores"
   ]
  },
  {
   "cell_type": "markdown",
   "id": "9d54b71c",
   "metadata": {},
   "source": [
    "С помощью функции cross_validate:"
   ]
  },
  {
   "cell_type": "code",
   "execution_count": 23,
   "id": "d8dc068a",
   "metadata": {},
   "outputs": [
    {
     "data": {
      "text/plain": [
       "{'fit_time': array([0.0075202 , 0.00715375, 0.00799155]),\n",
       " 'score_time': array([0.03073668, 0.00969672, 0.        ]),\n",
       " 'test_score': array([0.91673789, 0.95774648, 0.95301901]),\n",
       " 'train_score': array([0.9930479 , 0.98664493, 0.97930491])}"
      ]
     },
     "execution_count": 23,
     "metadata": {},
     "output_type": "execute_result"
    }
   ],
   "source": [
    "scoring = {'precision': 'precision_weighted', \n",
    "           'recall': 'recall_weighted',\n",
    "           'f1': 'f1_weighted'}\n",
    "scores = cross_validate(KNeighborsClassifier(n_neighbors=2), \n",
    "                        data, data.Type, scoring='f1_weighted', \n",
    "                        cv=3, return_train_score=True)\n",
    "scores"
   ]
  },
  {
   "cell_type": "markdown",
   "id": "8501d0e8",
   "metadata": {},
   "source": [
    "#### Стратегия K-Fold"
   ]
  },
  {
   "cell_type": "code",
   "execution_count": 24,
   "id": "26d80c1c",
   "metadata": {},
   "outputs": [],
   "source": [
    "from sklearn.model_selection import KFold"
   ]
  },
  {
   "cell_type": "code",
   "execution_count": 25,
   "id": "08fc8887",
   "metadata": {},
   "outputs": [
    {
     "data": {
      "text/plain": [
       "{'fit_time': array([0.0079987 , 0.00475574, 0.        , 0.00175667, 0.00216866]),\n",
       " 'score_time': array([0.0084846 , 0.00672698, 0.01811647, 0.01088214, 0.01374793]),\n",
       " 'test_score': array([1.        , 1.        , 0.925     , 0.46055632, 0.01858304])}"
      ]
     },
     "execution_count": 25,
     "metadata": {},
     "output_type": "execute_result"
    }
   ],
   "source": [
    "kf = KFold(n_splits=5)\n",
    "scores = cross_validate(KNeighborsClassifier(n_neighbors=2), \n",
    "                         data, data.Type, scoring='f1_weighted', \n",
    "                         cv=kf)\n",
    "scores"
   ]
  },
  {
   "cell_type": "markdown",
   "id": "1237b8b7",
   "metadata": {},
   "source": [
    "#### Стратегия Repeated K-Fold"
   ]
  },
  {
   "cell_type": "code",
   "execution_count": 26,
   "id": "db6c1ad0",
   "metadata": {},
   "outputs": [],
   "source": [
    "from sklearn.model_selection import RepeatedKFold"
   ]
  },
  {
   "cell_type": "code",
   "execution_count": 27,
   "id": "4f4644ed",
   "metadata": {},
   "outputs": [
    {
     "data": {
      "text/plain": [
       "{'fit_time': array([0.00790477, 0.        , 0.00533605, 0.00218129, 0.        ,\n",
       "        0.        ]),\n",
       " 'score_time': array([0.00800109, 0.01393962, 0.01096201, 0.01185083, 0.01581979,\n",
       "        0.01649904]),\n",
       " 'test_score': array([0.91576767, 0.91394056, 1.        , 0.93461342, 0.97132533,\n",
       "        0.93362526])}"
      ]
     },
     "execution_count": 27,
     "metadata": {},
     "output_type": "execute_result"
    }
   ],
   "source": [
    "kf = RepeatedKFold(n_splits=3, n_repeats=2)\n",
    "scores = cross_validate(KNeighborsClassifier(n_neighbors=2), \n",
    "                         data, data.Type, scoring='f1_weighted', \n",
    "                         cv=kf)\n",
    "scores"
   ]
  },
  {
   "cell_type": "markdown",
   "id": "51002ad7",
   "metadata": {},
   "source": [
    "#### Стратегия Leave One Out"
   ]
  },
  {
   "cell_type": "code",
   "execution_count": 28,
   "id": "3d09b539",
   "metadata": {},
   "outputs": [],
   "source": [
    "from sklearn.model_selection import LeaveOneOut"
   ]
  },
  {
   "cell_type": "code",
   "execution_count": 29,
   "id": "e41b1933",
   "metadata": {},
   "outputs": [
    {
     "data": {
      "text/plain": [
       "{'fit_time': array([0.        , 0.        , 0.0037539 , 0.        , 0.        ,\n",
       "        0.        , 0.        , 0.00343704, 0.00330806, 0.        ,\n",
       "        0.        , 0.        , 0.01564312, 0.        , 0.        ,\n",
       "        0.01562381, 0.        , 0.00576591, 0.        , 0.        ,\n",
       "        0.00689244, 0.        , 0.01418281, 0.        , 0.        ,\n",
       "        0.        , 0.        , 0.01452851, 0.01368809, 0.        ,\n",
       "        0.00287795, 0.        , 0.        , 0.01564527, 0.        ,\n",
       "        0.00456905, 0.01151156, 0.00492764, 0.00220299, 0.00438333,\n",
       "        0.01169896, 0.0075345 , 0.        , 0.        , 0.        ,\n",
       "        0.        , 0.        , 0.        , 0.        , 0.01563883,\n",
       "        0.        , 0.        , 0.        , 0.        , 0.01559925,\n",
       "        0.        , 0.00647855, 0.00951624, 0.        , 0.00087428,\n",
       "        0.        , 0.00745773, 0.00851488, 0.        , 0.00278616,\n",
       "        0.0027926 , 0.00352812, 0.00731325, 0.00355625, 0.        ,\n",
       "        0.        , 0.        , 0.00862479, 0.        , 0.        ,\n",
       "        0.        , 0.        , 0.001513  , 0.        , 0.        ,\n",
       "        0.01564217, 0.        , 0.        , 0.01398945, 0.        ,\n",
       "        0.00542378, 0.0039804 , 0.0048337 , 0.00803661, 0.00064373,\n",
       "        0.        , 0.        , 0.01553655, 0.        , 0.        ,\n",
       "        0.        , 0.        , 0.        , 0.        , 0.        ,\n",
       "        0.00102091, 0.        , 0.0017662 , 0.00327253, 0.00495601,\n",
       "        0.00734782, 0.007797  , 0.00347495, 0.        , 0.00803566,\n",
       "        0.00909019, 0.        , 0.        , 0.01564622, 0.        ,\n",
       "        0.        , 0.        , 0.        , 0.01501322, 0.        ,\n",
       "        0.0012269 , 0.        , 0.        , 0.        , 0.00518155,\n",
       "        0.01026654, 0.00353169, 0.00323534, 0.        , 0.        ,\n",
       "        0.        , 0.        , 0.        , 0.01617551, 0.00672126,\n",
       "        0.        , 0.        , 0.        , 0.01251245, 0.        ,\n",
       "        0.        , 0.00683308, 0.00149822, 0.        , 0.        ,\n",
       "        0.01355553, 0.00603223, 0.00260901, 0.        , 0.        ,\n",
       "        0.01302886, 0.        , 0.        , 0.01562715, 0.        ,\n",
       "        0.        , 0.01401472, 0.        , 0.00602436, 0.        ,\n",
       "        0.00583386, 0.00638032, 0.        , 0.00852013, 0.00803542,\n",
       "        0.        , 0.        , 0.        , 0.01562452, 0.        ,\n",
       "        0.        , 0.        , 0.01686144, 0.        , 0.        ,\n",
       "        0.00851464, 0.        , 0.        , 0.        , 0.00500774,\n",
       "        0.00840974, 0.00908995, 0.        , 0.        , 0.00801492,\n",
       "        0.00800323, 0.        , 0.        , 0.        , 0.01564336,\n",
       "        0.        , 0.        , 0.        , 0.        , 0.01051354,\n",
       "        0.        , 0.        , 0.01501155, 0.        , 0.00568175,\n",
       "        0.        , 0.00294113, 0.00803518, 0.00123453, 0.        ,\n",
       "        0.008178  , 0.        , 0.        , 0.        , 0.        ,\n",
       "        0.01501179, 0.        , 0.00095463, 0.        ]),\n",
       " 'score_time': array([0.00833631, 0.01134062, 0.00126982, 0.01626992, 0.01176357,\n",
       "        0.0080328 , 0.01418138, 0.00593233, 0.        , 0.01538277,\n",
       "        0.01401687, 0.        , 0.        , 0.01562452, 0.        ,\n",
       "        0.        , 0.01563239, 0.00254154, 0.01335764, 0.00801969,\n",
       "        0.00503445, 0.        , 0.        , 0.00951481, 0.0070436 ,\n",
       "        0.0093689 , 0.        , 0.        , 0.00419736, 0.0137794 ,\n",
       "        0.        , 0.01301432, 0.        , 0.00615358, 0.00951219,\n",
       "        0.        , 0.00355458, 0.        , 0.00636983, 0.        ,\n",
       "        0.        , 0.00803804, 0.0075686 , 0.00803614, 0.00808001,\n",
       "        0.        , 0.        , 0.01563478, 0.        , 0.        ,\n",
       "        0.0156126 , 0.        , 0.01564074, 0.        , 0.00862145,\n",
       "        0.00751543, 0.        , 0.00434756, 0.0115149 , 0.        ,\n",
       "        0.01351571, 0.        , 0.00539351, 0.01051331, 0.00589967,\n",
       "        0.00572562, 0.00364661, 0.00497651, 0.00855589, 0.00801396,\n",
       "        0.00879908, 0.00751758, 0.        , 0.01553512, 0.        ,\n",
       "        0.01566744, 0.        , 0.        , 0.0145359 , 0.        ,\n",
       "        0.        , 0.01965165, 0.        , 0.0074563 , 0.0080092 ,\n",
       "        0.00312781, 0.00532651, 0.        , 0.00818944, 0.00701189,\n",
       "        0.00858784, 0.        , 0.        , 0.0156486 , 0.        ,\n",
       "        0.01594448, 0.01562548, 0.00525928, 0.01395226, 0.        ,\n",
       "        0.        , 0.02021599, 0.00609279, 0.00612164, 0.00451469,\n",
       "        0.00104308, 0.00510383, 0.00806046, 0.00809574, 0.        ,\n",
       "        0.        , 0.01501536, 0.        , 0.00390315, 0.        ,\n",
       "        0.00890756, 0.00769496, 0.        , 0.00510406, 0.01232958,\n",
       "        0.        , 0.01489997, 0.        , 0.00756454, 0.        ,\n",
       "        0.0073235 , 0.00585628, 0.0035274 , 0.00808597, 0.        ,\n",
       "        0.        , 0.01562595, 0.        , 0.        , 0.0085156 ,\n",
       "        0.00541019, 0.01405716, 0.        , 0.00828242, 0.00751448,\n",
       "        0.00662327, 0.        , 0.00701904, 0.00931382, 0.        ,\n",
       "        0.00246644, 0.00801635, 0.00555968, 0.01083088, 0.        ,\n",
       "        0.        , 0.01564932, 0.        , 0.00497961, 0.01305628,\n",
       "        0.        , 0.        , 0.01564479, 0.        , 0.02935815,\n",
       "        0.00713754, 0.00541496, 0.00804925, 0.        , 0.00804853,\n",
       "        0.        , 0.0156343 , 0.        , 0.        , 0.01574349,\n",
       "        0.01561904, 0.        , 0.00097561, 0.0144341 , 0.00654674,\n",
       "        0.00547647, 0.        , 0.00344324, 0.0154655 , 0.        ,\n",
       "        0.00052428, 0.        , 0.01531315, 0.00651145, 0.        ,\n",
       "        0.00799847, 0.        , 0.01501751, 0.        , 0.        ,\n",
       "        0.01563025, 0.0072782 , 0.00851464, 0.        , 0.        ,\n",
       "        0.0164535 , 0.        , 0.00673151, 0.00901508, 0.00217056,\n",
       "        0.01171112, 0.00209761, 0.        , 0.0071981 , 0.00801802,\n",
       "        0.        , 0.0156281 , 0.        , 0.01668715, 0.        ,\n",
       "        0.        , 0.01564598, 0.        , 0.01351523]),\n",
       " 'test_score': array([1., 1., 1., 1., 1., 1., 1., 1., 1., 1., 1., 1., 1., 1., 1., 1., 1.,\n",
       "        1., 1., 1., 1., 1., 1., 1., 1., 1., 1., 1., 1., 1., 1., 1., 1., 1.,\n",
       "        1., 1., 1., 1., 1., 1., 1., 1., 1., 1., 1., 1., 1., 1., 1., 1., 1.,\n",
       "        1., 1., 1., 1., 1., 1., 1., 1., 1., 1., 1., 1., 1., 1., 1., 1., 1.,\n",
       "        1., 1., 1., 1., 1., 1., 1., 1., 1., 1., 1., 1., 1., 1., 1., 1., 1.,\n",
       "        1., 1., 1., 1., 1., 1., 1., 1., 1., 1., 1., 1., 1., 1., 1., 1., 1.,\n",
       "        1., 0., 1., 1., 1., 1., 1., 1., 1., 1., 1., 1., 1., 1., 1., 1., 1.,\n",
       "        1., 1., 1., 1., 1., 1., 1., 1., 1., 1., 1., 1., 1., 1., 1., 1., 1.,\n",
       "        1., 1., 1., 1., 1., 1., 1., 1., 1., 1., 1., 1., 1., 1., 1., 1., 1.,\n",
       "        1., 1., 1., 1., 1., 1., 1., 1., 1., 1., 0., 1., 1., 1., 1., 1., 1.,\n",
       "        1., 1., 1., 1., 1., 1., 1., 1., 1., 1., 0., 1., 0., 0., 1., 1., 0.,\n",
       "        0., 0., 0., 0., 1., 1., 1., 1., 1., 1., 1., 1., 1., 1., 0., 1., 1.,\n",
       "        1., 1., 1., 1., 1., 1., 1., 1., 1., 1.])}"
      ]
     },
     "execution_count": 29,
     "metadata": {},
     "output_type": "execute_result"
    }
   ],
   "source": [
    "kf = LeaveOneOut()\n",
    "scores = cross_validate(KNeighborsClassifier(n_neighbors=2), \n",
    "                         data, data.Type, scoring='f1_weighted', \n",
    "                         cv=kf)\n",
    "scores"
   ]
  },
  {
   "cell_type": "markdown",
   "id": "16c300bd",
   "metadata": {},
   "source": [
    "#### Стратегия Leave P Out"
   ]
  },
  {
   "cell_type": "code",
   "execution_count": 30,
   "id": "c8a846c5",
   "metadata": {},
   "outputs": [],
   "source": [
    "from sklearn.model_selection import LeavePOut"
   ]
  },
  {
   "cell_type": "code",
   "execution_count": 31,
   "id": "d3b0c7e6",
   "metadata": {},
   "outputs": [
    {
     "data": {
      "text/plain": [
       "{'fit_time': array([0.        , 0.00249863, 0.00796556, ..., 0.        , 0.01562285,\n",
       "        0.        ]),\n",
       " 'score_time': array([0.01609802, 0.00268292, 0.00614762, ..., 0.        , 0.        ,\n",
       "        0.01562357]),\n",
       " 'test_score': array([1., 1., 1., ..., 1., 1., 1.])}"
      ]
     },
     "execution_count": 31,
     "metadata": {},
     "output_type": "execute_result"
    }
   ],
   "source": [
    "kf = LeavePOut(2)\n",
    "scores = cross_validate(KNeighborsClassifier(n_neighbors=2), \n",
    "                         data, data.Type, scoring='f1_weighted', \n",
    "                         cv=kf)\n",
    "scores"
   ]
  },
  {
   "cell_type": "markdown",
   "id": "97e075dd",
   "metadata": {},
   "source": [
    "#### Стратегия ShuffleSplit"
   ]
  },
  {
   "cell_type": "code",
   "execution_count": 32,
   "id": "942bdbda",
   "metadata": {},
   "outputs": [],
   "source": [
    "from sklearn.model_selection import ShuffleSplit"
   ]
  },
  {
   "cell_type": "code",
   "execution_count": 33,
   "id": "1698debf",
   "metadata": {},
   "outputs": [
    {
     "data": {
      "text/plain": [
       "{'fit_time': array([0.        , 0.00660992, 0.        , 0.00812531, 0.        ]),\n",
       " 'score_time': array([0.01334357, 0.00980639, 0.00665927, 0.00821614, 0.0160737 ]),\n",
       " 'test_score': array([0.96728395, 0.92621861, 0.92197323, 0.91582492, 0.96324533])}"
      ]
     },
     "execution_count": 33,
     "metadata": {},
     "output_type": "execute_result"
    }
   ],
   "source": [
    "kf = ShuffleSplit(n_splits=5, test_size=0.25)\n",
    "scores = cross_validate(KNeighborsClassifier(n_neighbors=2), \n",
    "                         data, data.Type, scoring='f1_weighted', \n",
    "                         cv=kf)\n",
    "scores"
   ]
  },
  {
   "cell_type": "markdown",
   "id": "db4d9d34",
   "metadata": {},
   "source": [
    "#### Стратегия StratifiedKFold"
   ]
  },
  {
   "cell_type": "code",
   "execution_count": 34,
   "id": "014328c5",
   "metadata": {},
   "outputs": [],
   "source": [
    "from sklearn.model_selection import StratifiedKFold"
   ]
  },
  {
   "cell_type": "code",
   "execution_count": 35,
   "id": "f8867130",
   "metadata": {},
   "outputs": [
    {
     "data": {
      "text/plain": [
       "{'fit_time': array([0.00343394, 0.        , 0.00129414]),\n",
       " 'score_time': array([0.01388717, 0.01512051, 0.00715494]),\n",
       " 'test_score': array([0.91673789, 0.95774648, 0.95301901])}"
      ]
     },
     "execution_count": 35,
     "metadata": {},
     "output_type": "execute_result"
    }
   ],
   "source": [
    "skf = StratifiedKFold(n_splits=3)\n",
    "scores = cross_validate(KNeighborsClassifier(n_neighbors=2), \n",
    "                         data, data.Type, scoring='f1_weighted', \n",
    "                         cv=skf)\n",
    "scores"
   ]
  },
  {
   "cell_type": "markdown",
   "id": "219b8016",
   "metadata": {},
   "source": [
    "### Оптимизация гиперпараметра"
   ]
  },
  {
   "cell_type": "markdown",
   "id": "9e121338",
   "metadata": {},
   "source": [
    "#### Через GridSearch"
   ]
  },
  {
   "cell_type": "code",
   "execution_count": 36,
   "id": "a6b89f21",
   "metadata": {},
   "outputs": [],
   "source": [
    "from sklearn.model_selection import GridSearchCV"
   ]
  },
  {
   "cell_type": "code",
   "execution_count": 37,
   "id": "2047c6a1",
   "metadata": {},
   "outputs": [
    {
     "data": {
      "text/plain": [
       "[{'n_neighbors': array([ 5, 10, 15, 20, 25, 30, 35, 40, 45, 50])}]"
      ]
     },
     "execution_count": 37,
     "metadata": {},
     "output_type": "execute_result"
    }
   ],
   "source": [
    "n_range = np.array(range(5,55,5))\n",
    "tuned_parameters = [{'n_neighbors': n_range}]\n",
    "tuned_parameters"
   ]
  },
  {
   "cell_type": "code",
   "execution_count": 38,
   "id": "29ce78f2",
   "metadata": {},
   "outputs": [
    {
     "name": "stdout",
     "output_type": "stream",
     "text": [
      "CPU times: total: 453 ms\n",
      "Wall time: 488 ms\n"
     ]
    },
    {
     "data": {
      "text/html": [
       "<style>#sk-container-id-1 {color: black;}#sk-container-id-1 pre{padding: 0;}#sk-container-id-1 div.sk-toggleable {background-color: white;}#sk-container-id-1 label.sk-toggleable__label {cursor: pointer;display: block;width: 100%;margin-bottom: 0;padding: 0.3em;box-sizing: border-box;text-align: center;}#sk-container-id-1 label.sk-toggleable__label-arrow:before {content: \"▸\";float: left;margin-right: 0.25em;color: #696969;}#sk-container-id-1 label.sk-toggleable__label-arrow:hover:before {color: black;}#sk-container-id-1 div.sk-estimator:hover label.sk-toggleable__label-arrow:before {color: black;}#sk-container-id-1 div.sk-toggleable__content {max-height: 0;max-width: 0;overflow: hidden;text-align: left;background-color: #f0f8ff;}#sk-container-id-1 div.sk-toggleable__content pre {margin: 0.2em;color: black;border-radius: 0.25em;background-color: #f0f8ff;}#sk-container-id-1 input.sk-toggleable__control:checked~div.sk-toggleable__content {max-height: 200px;max-width: 100%;overflow: auto;}#sk-container-id-1 input.sk-toggleable__control:checked~label.sk-toggleable__label-arrow:before {content: \"▾\";}#sk-container-id-1 div.sk-estimator input.sk-toggleable__control:checked~label.sk-toggleable__label {background-color: #d4ebff;}#sk-container-id-1 div.sk-label input.sk-toggleable__control:checked~label.sk-toggleable__label {background-color: #d4ebff;}#sk-container-id-1 input.sk-hidden--visually {border: 0;clip: rect(1px 1px 1px 1px);clip: rect(1px, 1px, 1px, 1px);height: 1px;margin: -1px;overflow: hidden;padding: 0;position: absolute;width: 1px;}#sk-container-id-1 div.sk-estimator {font-family: monospace;background-color: #f0f8ff;border: 1px dotted black;border-radius: 0.25em;box-sizing: border-box;margin-bottom: 0.5em;}#sk-container-id-1 div.sk-estimator:hover {background-color: #d4ebff;}#sk-container-id-1 div.sk-parallel-item::after {content: \"\";width: 100%;border-bottom: 1px solid gray;flex-grow: 1;}#sk-container-id-1 div.sk-label:hover label.sk-toggleable__label {background-color: #d4ebff;}#sk-container-id-1 div.sk-serial::before {content: \"\";position: absolute;border-left: 1px solid gray;box-sizing: border-box;top: 0;bottom: 0;left: 50%;z-index: 0;}#sk-container-id-1 div.sk-serial {display: flex;flex-direction: column;align-items: center;background-color: white;padding-right: 0.2em;padding-left: 0.2em;position: relative;}#sk-container-id-1 div.sk-item {position: relative;z-index: 1;}#sk-container-id-1 div.sk-parallel {display: flex;align-items: stretch;justify-content: center;background-color: white;position: relative;}#sk-container-id-1 div.sk-item::before, #sk-container-id-1 div.sk-parallel-item::before {content: \"\";position: absolute;border-left: 1px solid gray;box-sizing: border-box;top: 0;bottom: 0;left: 50%;z-index: -1;}#sk-container-id-1 div.sk-parallel-item {display: flex;flex-direction: column;z-index: 1;position: relative;background-color: white;}#sk-container-id-1 div.sk-parallel-item:first-child::after {align-self: flex-end;width: 50%;}#sk-container-id-1 div.sk-parallel-item:last-child::after {align-self: flex-start;width: 50%;}#sk-container-id-1 div.sk-parallel-item:only-child::after {width: 0;}#sk-container-id-1 div.sk-dashed-wrapped {border: 1px dashed gray;margin: 0 0.4em 0.5em 0.4em;box-sizing: border-box;padding-bottom: 0.4em;background-color: white;}#sk-container-id-1 div.sk-label label {font-family: monospace;font-weight: bold;display: inline-block;line-height: 1.2em;}#sk-container-id-1 div.sk-label-container {text-align: center;}#sk-container-id-1 div.sk-container {/* jupyter's `normalize.less` sets `[hidden] { display: none; }` but bootstrap.min.css set `[hidden] { display: none !important; }` so we also need the `!important` here to be able to override the default hidden behavior on the sphinx rendered scikit-learn.org. See: https://github.com/scikit-learn/scikit-learn/issues/21755 */display: inline-block !important;position: relative;}#sk-container-id-1 div.sk-text-repr-fallback {display: none;}</style><div id=\"sk-container-id-1\" class=\"sk-top-container\"><div class=\"sk-text-repr-fallback\"><pre>GridSearchCV(cv=5, estimator=KNeighborsClassifier(),\n",
       "             param_grid=[{&#x27;n_neighbors&#x27;: array([ 5, 10, 15, 20, 25, 30, 35, 40, 45, 50])}],\n",
       "             scoring=&#x27;accuracy&#x27;)</pre><b>In a Jupyter environment, please rerun this cell to show the HTML representation or trust the notebook. <br />On GitHub, the HTML representation is unable to render, please try loading this page with nbviewer.org.</b></div><div class=\"sk-container\" hidden><div class=\"sk-item sk-dashed-wrapped\"><div class=\"sk-label-container\"><div class=\"sk-label sk-toggleable\"><input class=\"sk-toggleable__control sk-hidden--visually\" id=\"sk-estimator-id-1\" type=\"checkbox\" ><label for=\"sk-estimator-id-1\" class=\"sk-toggleable__label sk-toggleable__label-arrow\">GridSearchCV</label><div class=\"sk-toggleable__content\"><pre>GridSearchCV(cv=5, estimator=KNeighborsClassifier(),\n",
       "             param_grid=[{&#x27;n_neighbors&#x27;: array([ 5, 10, 15, 20, 25, 30, 35, 40, 45, 50])}],\n",
       "             scoring=&#x27;accuracy&#x27;)</pre></div></div></div><div class=\"sk-parallel\"><div class=\"sk-parallel-item\"><div class=\"sk-item\"><div class=\"sk-label-container\"><div class=\"sk-label sk-toggleable\"><input class=\"sk-toggleable__control sk-hidden--visually\" id=\"sk-estimator-id-2\" type=\"checkbox\" ><label for=\"sk-estimator-id-2\" class=\"sk-toggleable__label sk-toggleable__label-arrow\">estimator: KNeighborsClassifier</label><div class=\"sk-toggleable__content\"><pre>KNeighborsClassifier()</pre></div></div></div><div class=\"sk-serial\"><div class=\"sk-item\"><div class=\"sk-estimator sk-toggleable\"><input class=\"sk-toggleable__control sk-hidden--visually\" id=\"sk-estimator-id-3\" type=\"checkbox\" ><label for=\"sk-estimator-id-3\" class=\"sk-toggleable__label sk-toggleable__label-arrow\">KNeighborsClassifier</label><div class=\"sk-toggleable__content\"><pre>KNeighborsClassifier()</pre></div></div></div></div></div></div></div></div></div></div>"
      ],
      "text/plain": [
       "GridSearchCV(cv=5, estimator=KNeighborsClassifier(),\n",
       "             param_grid=[{'n_neighbors': array([ 5, 10, 15, 20, 25, 30, 35, 40, 45, 50])}],\n",
       "             scoring='accuracy')"
      ]
     },
     "execution_count": 38,
     "metadata": {},
     "output_type": "execute_result"
    }
   ],
   "source": [
    "%%time\n",
    "clf_gs = GridSearchCV(KNeighborsClassifier(), tuned_parameters, cv=5, scoring='accuracy')\n",
    "clf_gs.fit(X_train, y_train)"
   ]
  },
  {
   "cell_type": "code",
   "execution_count": 39,
   "id": "ec31594f",
   "metadata": {},
   "outputs": [
    {
     "data": {
      "text/plain": [
       "{'mean_fit_time': array([0.0043293 , 0.00472484, 0.00067263, 0.00312085, 0.00312991,\n",
       "        0.        , 0.00625634, 0.00310607, 0.0031251 , 0.00627017]),\n",
       " 'std_fit_time': array([0.00429079, 0.00653292, 0.00134525, 0.0062417 , 0.00625982,\n",
       "        0.        , 0.00766243, 0.00621214, 0.00625019, 0.00767943]),\n",
       " 'mean_score_time': array([0.00568514, 0.00496292, 0.00411239, 0.00624971, 0.006248  ,\n",
       "        0.00937209, 0.00626378, 0.00626831, 0.00625091, 0.0031055 ]),\n",
       " 'std_score_time': array([0.00527237, 0.00392838, 0.00523123, 0.00765431, 0.0076522 ,\n",
       "        0.00765228, 0.00767161, 0.00767715, 0.00765603, 0.00621099]),\n",
       " 'param_n_neighbors': masked_array(data=[5, 10, 15, 20, 25, 30, 35, 40, 45, 50],\n",
       "              mask=[False, False, False, False, False, False, False, False,\n",
       "                    False, False],\n",
       "        fill_value='?',\n",
       "             dtype=object),\n",
       " 'params': [{'n_neighbors': 5},\n",
       "  {'n_neighbors': 10},\n",
       "  {'n_neighbors': 15},\n",
       "  {'n_neighbors': 20},\n",
       "  {'n_neighbors': 25},\n",
       "  {'n_neighbors': 30},\n",
       "  {'n_neighbors': 35},\n",
       "  {'n_neighbors': 40},\n",
       "  {'n_neighbors': 45},\n",
       "  {'n_neighbors': 50}],\n",
       " 'split0_test_score': array([0.5625 , 0.5625 , 0.5625 , 0.59375, 0.5625 , 0.53125, 0.53125,\n",
       "        0.625  , 0.53125, 0.40625]),\n",
       " 'split1_test_score': array([0.65625, 0.6875 , 0.625  , 0.5625 , 0.59375, 0.59375, 0.5625 ,\n",
       "        0.59375, 0.5625 , 0.53125]),\n",
       " 'split2_test_score': array([0.625  , 0.5625 , 0.59375, 0.5625 , 0.59375, 0.5625 , 0.59375,\n",
       "        0.5    , 0.5    , 0.53125]),\n",
       " 'split3_test_score': array([0.53125, 0.5    , 0.5    , 0.53125, 0.4375 , 0.375  , 0.40625,\n",
       "        0.40625, 0.34375, 0.34375]),\n",
       " 'split4_test_score': array([0.75   , 0.71875, 0.6875 , 0.65625, 0.65625, 0.65625, 0.59375,\n",
       "        0.625  , 0.53125, 0.46875]),\n",
       " 'mean_test_score': array([0.625  , 0.60625, 0.59375, 0.58125, 0.56875, 0.54375, 0.5375 ,\n",
       "        0.55   , 0.49375, 0.45625]),\n",
       " 'std_test_score': array([0.07654655, 0.08291562, 0.0625    , 0.04238956, 0.07234898,\n",
       "        0.0939581 , 0.06959705, 0.08523864, 0.07756046, 0.0728869 ]),\n",
       " 'rank_test_score': array([ 1,  2,  3,  4,  5,  7,  8,  6,  9, 10])}"
      ]
     },
     "execution_count": 39,
     "metadata": {},
     "output_type": "execute_result"
    }
   ],
   "source": [
    "clf_gs.cv_results_"
   ]
  },
  {
   "cell_type": "markdown",
   "id": "0ff793b3",
   "metadata": {},
   "source": [
    "Лучшая модель:"
   ]
  },
  {
   "cell_type": "code",
   "execution_count": 40,
   "id": "3fac9c2e",
   "metadata": {},
   "outputs": [
    {
     "data": {
      "text/html": [
       "<style>#sk-container-id-2 {color: black;}#sk-container-id-2 pre{padding: 0;}#sk-container-id-2 div.sk-toggleable {background-color: white;}#sk-container-id-2 label.sk-toggleable__label {cursor: pointer;display: block;width: 100%;margin-bottom: 0;padding: 0.3em;box-sizing: border-box;text-align: center;}#sk-container-id-2 label.sk-toggleable__label-arrow:before {content: \"▸\";float: left;margin-right: 0.25em;color: #696969;}#sk-container-id-2 label.sk-toggleable__label-arrow:hover:before {color: black;}#sk-container-id-2 div.sk-estimator:hover label.sk-toggleable__label-arrow:before {color: black;}#sk-container-id-2 div.sk-toggleable__content {max-height: 0;max-width: 0;overflow: hidden;text-align: left;background-color: #f0f8ff;}#sk-container-id-2 div.sk-toggleable__content pre {margin: 0.2em;color: black;border-radius: 0.25em;background-color: #f0f8ff;}#sk-container-id-2 input.sk-toggleable__control:checked~div.sk-toggleable__content {max-height: 200px;max-width: 100%;overflow: auto;}#sk-container-id-2 input.sk-toggleable__control:checked~label.sk-toggleable__label-arrow:before {content: \"▾\";}#sk-container-id-2 div.sk-estimator input.sk-toggleable__control:checked~label.sk-toggleable__label {background-color: #d4ebff;}#sk-container-id-2 div.sk-label input.sk-toggleable__control:checked~label.sk-toggleable__label {background-color: #d4ebff;}#sk-container-id-2 input.sk-hidden--visually {border: 0;clip: rect(1px 1px 1px 1px);clip: rect(1px, 1px, 1px, 1px);height: 1px;margin: -1px;overflow: hidden;padding: 0;position: absolute;width: 1px;}#sk-container-id-2 div.sk-estimator {font-family: monospace;background-color: #f0f8ff;border: 1px dotted black;border-radius: 0.25em;box-sizing: border-box;margin-bottom: 0.5em;}#sk-container-id-2 div.sk-estimator:hover {background-color: #d4ebff;}#sk-container-id-2 div.sk-parallel-item::after {content: \"\";width: 100%;border-bottom: 1px solid gray;flex-grow: 1;}#sk-container-id-2 div.sk-label:hover label.sk-toggleable__label {background-color: #d4ebff;}#sk-container-id-2 div.sk-serial::before {content: \"\";position: absolute;border-left: 1px solid gray;box-sizing: border-box;top: 0;bottom: 0;left: 50%;z-index: 0;}#sk-container-id-2 div.sk-serial {display: flex;flex-direction: column;align-items: center;background-color: white;padding-right: 0.2em;padding-left: 0.2em;position: relative;}#sk-container-id-2 div.sk-item {position: relative;z-index: 1;}#sk-container-id-2 div.sk-parallel {display: flex;align-items: stretch;justify-content: center;background-color: white;position: relative;}#sk-container-id-2 div.sk-item::before, #sk-container-id-2 div.sk-parallel-item::before {content: \"\";position: absolute;border-left: 1px solid gray;box-sizing: border-box;top: 0;bottom: 0;left: 50%;z-index: -1;}#sk-container-id-2 div.sk-parallel-item {display: flex;flex-direction: column;z-index: 1;position: relative;background-color: white;}#sk-container-id-2 div.sk-parallel-item:first-child::after {align-self: flex-end;width: 50%;}#sk-container-id-2 div.sk-parallel-item:last-child::after {align-self: flex-start;width: 50%;}#sk-container-id-2 div.sk-parallel-item:only-child::after {width: 0;}#sk-container-id-2 div.sk-dashed-wrapped {border: 1px dashed gray;margin: 0 0.4em 0.5em 0.4em;box-sizing: border-box;padding-bottom: 0.4em;background-color: white;}#sk-container-id-2 div.sk-label label {font-family: monospace;font-weight: bold;display: inline-block;line-height: 1.2em;}#sk-container-id-2 div.sk-label-container {text-align: center;}#sk-container-id-2 div.sk-container {/* jupyter's `normalize.less` sets `[hidden] { display: none; }` but bootstrap.min.css set `[hidden] { display: none !important; }` so we also need the `!important` here to be able to override the default hidden behavior on the sphinx rendered scikit-learn.org. See: https://github.com/scikit-learn/scikit-learn/issues/21755 */display: inline-block !important;position: relative;}#sk-container-id-2 div.sk-text-repr-fallback {display: none;}</style><div id=\"sk-container-id-2\" class=\"sk-top-container\"><div class=\"sk-text-repr-fallback\"><pre>KNeighborsClassifier()</pre><b>In a Jupyter environment, please rerun this cell to show the HTML representation or trust the notebook. <br />On GitHub, the HTML representation is unable to render, please try loading this page with nbviewer.org.</b></div><div class=\"sk-container\" hidden><div class=\"sk-item\"><div class=\"sk-estimator sk-toggleable\"><input class=\"sk-toggleable__control sk-hidden--visually\" id=\"sk-estimator-id-4\" type=\"checkbox\" checked><label for=\"sk-estimator-id-4\" class=\"sk-toggleable__label sk-toggleable__label-arrow\">KNeighborsClassifier</label><div class=\"sk-toggleable__content\"><pre>KNeighborsClassifier()</pre></div></div></div></div></div>"
      ],
      "text/plain": [
       "KNeighborsClassifier()"
      ]
     },
     "execution_count": 40,
     "metadata": {},
     "output_type": "execute_result"
    }
   ],
   "source": [
    "clf_gs.best_estimator_"
   ]
  },
  {
   "cell_type": "markdown",
   "id": "c38418e9",
   "metadata": {},
   "source": [
    "Лучшее значение метрики:"
   ]
  },
  {
   "cell_type": "code",
   "execution_count": 41,
   "id": "3d56d7bd",
   "metadata": {},
   "outputs": [
    {
     "data": {
      "text/plain": [
       "0.625"
      ]
     },
     "execution_count": 41,
     "metadata": {},
     "output_type": "execute_result"
    }
   ],
   "source": [
    "clf_gs.best_score_"
   ]
  },
  {
   "cell_type": "markdown",
   "id": "f8931cb3",
   "metadata": {},
   "source": [
    "Лучшее значение параметров:"
   ]
  },
  {
   "cell_type": "code",
   "execution_count": 42,
   "id": "6ac378f1",
   "metadata": {},
   "outputs": [
    {
     "data": {
      "text/plain": [
       "{'n_neighbors': 5}"
      ]
     },
     "execution_count": 42,
     "metadata": {},
     "output_type": "execute_result"
    }
   ],
   "source": [
    "clf_gs.best_params_"
   ]
  },
  {
   "cell_type": "markdown",
   "id": "d2fd2671",
   "metadata": {},
   "source": [
    "Изменение качества на тестовой выборке в зависимости от К-соседей:"
   ]
  },
  {
   "cell_type": "code",
   "execution_count": 43,
   "id": "6a61b0cc",
   "metadata": {},
   "outputs": [
    {
     "data": {
      "text/plain": [
       "[<matplotlib.lines.Line2D at 0x1f09fbc0150>]"
      ]
     },
     "execution_count": 43,
     "metadata": {},
     "output_type": "execute_result"
    },
    {
     "data": {
      "image/png": "[encoded data removed]",
      "text/plain": [
       "<Figure size 640x480 with 1 Axes>"
      ]
     },
     "metadata": {},
     "output_type": "display_data"
    }
   ],
   "source": [
    "plt.plot(n_range, clf_gs.cv_results_['mean_test_score'])"
   ]
  },
  {
   "cell_type": "markdown",
   "id": "2347f640",
   "metadata": {},
   "source": [
    "#### Через RandomizedSearch"
   ]
  },
  {
   "cell_type": "code",
   "execution_count": 44,
   "id": "2dcf54fe",
   "metadata": {},
   "outputs": [],
   "source": [
    "from sklearn.model_selection import RandomizedSearchCV"
   ]
  },
  {
   "cell_type": "code",
   "execution_count": 45,
   "id": "f062d1c6",
   "metadata": {},
   "outputs": [
    {
     "name": "stdout",
     "output_type": "stream",
     "text": [
      "CPU times: total: 438 ms\n",
      "Wall time: 508 ms\n"
     ]
    },
    {
     "data": {
      "text/html": [
       "<style>#sk-container-id-3 {color: black;}#sk-container-id-3 pre{padding: 0;}#sk-container-id-3 div.sk-toggleable {background-color: white;}#sk-container-id-3 label.sk-toggleable__label {cursor: pointer;display: block;width: 100%;margin-bottom: 0;padding: 0.3em;box-sizing: border-box;text-align: center;}#sk-container-id-3 label.sk-toggleable__label-arrow:before {content: \"▸\";float: left;margin-right: 0.25em;color: #696969;}#sk-container-id-3 label.sk-toggleable__label-arrow:hover:before {color: black;}#sk-container-id-3 div.sk-estimator:hover label.sk-toggleable__label-arrow:before {color: black;}#sk-container-id-3 div.sk-toggleable__content {max-height: 0;max-width: 0;overflow: hidden;text-align: left;background-color: #f0f8ff;}#sk-container-id-3 div.sk-toggleable__content pre {margin: 0.2em;color: black;border-radius: 0.25em;background-color: #f0f8ff;}#sk-container-id-3 input.sk-toggleable__control:checked~div.sk-toggleable__content {max-height: 200px;max-width: 100%;overflow: auto;}#sk-container-id-3 input.sk-toggleable__control:checked~label.sk-toggleable__label-arrow:before {content: \"▾\";}#sk-container-id-3 div.sk-estimator input.sk-toggleable__control:checked~label.sk-toggleable__label {background-color: #d4ebff;}#sk-container-id-3 div.sk-label input.sk-toggleable__control:checked~label.sk-toggleable__label {background-color: #d4ebff;}#sk-container-id-3 input.sk-hidden--visually {border: 0;clip: rect(1px 1px 1px 1px);clip: rect(1px, 1px, 1px, 1px);height: 1px;margin: -1px;overflow: hidden;padding: 0;position: absolute;width: 1px;}#sk-container-id-3 div.sk-estimator {font-family: monospace;background-color: #f0f8ff;border: 1px dotted black;border-radius: 0.25em;box-sizing: border-box;margin-bottom: 0.5em;}#sk-container-id-3 div.sk-estimator:hover {background-color: #d4ebff;}#sk-container-id-3 div.sk-parallel-item::after {content: \"\";width: 100%;border-bottom: 1px solid gray;flex-grow: 1;}#sk-container-id-3 div.sk-label:hover label.sk-toggleable__label {background-color: #d4ebff;}#sk-container-id-3 div.sk-serial::before {content: \"\";position: absolute;border-left: 1px solid gray;box-sizing: border-box;top: 0;bottom: 0;left: 50%;z-index: 0;}#sk-container-id-3 div.sk-serial {display: flex;flex-direction: column;align-items: center;background-color: white;padding-right: 0.2em;padding-left: 0.2em;position: relative;}#sk-container-id-3 div.sk-item {position: relative;z-index: 1;}#sk-container-id-3 div.sk-parallel {display: flex;align-items: stretch;justify-content: center;background-color: white;position: relative;}#sk-container-id-3 div.sk-item::before, #sk-container-id-3 div.sk-parallel-item::before {content: \"\";position: absolute;border-left: 1px solid gray;box-sizing: border-box;top: 0;bottom: 0;left: 50%;z-index: -1;}#sk-container-id-3 div.sk-parallel-item {display: flex;flex-direction: column;z-index: 1;position: relative;background-color: white;}#sk-container-id-3 div.sk-parallel-item:first-child::after {align-self: flex-end;width: 50%;}#sk-container-id-3 div.sk-parallel-item:last-child::after {align-self: flex-start;width: 50%;}#sk-container-id-3 div.sk-parallel-item:only-child::after {width: 0;}#sk-container-id-3 div.sk-dashed-wrapped {border: 1px dashed gray;margin: 0 0.4em 0.5em 0.4em;box-sizing: border-box;padding-bottom: 0.4em;background-color: white;}#sk-container-id-3 div.sk-label label {font-family: monospace;font-weight: bold;display: inline-block;line-height: 1.2em;}#sk-container-id-3 div.sk-label-container {text-align: center;}#sk-container-id-3 div.sk-container {/* jupyter's `normalize.less` sets `[hidden] { display: none; }` but bootstrap.min.css set `[hidden] { display: none !important; }` so we also need the `!important` here to be able to override the default hidden behavior on the sphinx rendered scikit-learn.org. See: https://github.com/scikit-learn/scikit-learn/issues/21755 */display: inline-block !important;position: relative;}#sk-container-id-3 div.sk-text-repr-fallback {display: none;}</style><div id=\"sk-container-id-3\" class=\"sk-top-container\"><div class=\"sk-text-repr-fallback\"><pre>RandomizedSearchCV(cv=5, estimator=KNeighborsClassifier(),\n",
       "                   param_distributions=[{&#x27;n_neighbors&#x27;: array([ 5, 10, 15, 20, 25, 30, 35, 40, 45, 50])}],\n",
       "                   scoring=&#x27;accuracy&#x27;)</pre><b>In a Jupyter environment, please rerun this cell to show the HTML representation or trust the notebook. <br />On GitHub, the HTML representation is unable to render, please try loading this page with nbviewer.org.</b></div><div class=\"sk-container\" hidden><div class=\"sk-item sk-dashed-wrapped\"><div class=\"sk-label-container\"><div class=\"sk-label sk-toggleable\"><input class=\"sk-toggleable__control sk-hidden--visually\" id=\"sk-estimator-id-5\" type=\"checkbox\" ><label for=\"sk-estimator-id-5\" class=\"sk-toggleable__label sk-toggleable__label-arrow\">RandomizedSearchCV</label><div class=\"sk-toggleable__content\"><pre>RandomizedSearchCV(cv=5, estimator=KNeighborsClassifier(),\n",
       "                   param_distributions=[{&#x27;n_neighbors&#x27;: array([ 5, 10, 15, 20, 25, 30, 35, 40, 45, 50])}],\n",
       "                   scoring=&#x27;accuracy&#x27;)</pre></div></div></div><div class=\"sk-parallel\"><div class=\"sk-parallel-item\"><div class=\"sk-item\"><div class=\"sk-label-container\"><div class=\"sk-label sk-toggleable\"><input class=\"sk-toggleable__control sk-hidden--visually\" id=\"sk-estimator-id-6\" type=\"checkbox\" ><label for=\"sk-estimator-id-6\" class=\"sk-toggleable__label sk-toggleable__label-arrow\">estimator: KNeighborsClassifier</label><div class=\"sk-toggleable__content\"><pre>KNeighborsClassifier()</pre></div></div></div><div class=\"sk-serial\"><div class=\"sk-item\"><div class=\"sk-estimator sk-toggleable\"><input class=\"sk-toggleable__control sk-hidden--visually\" id=\"sk-estimator-id-7\" type=\"checkbox\" ><label for=\"sk-estimator-id-7\" class=\"sk-toggleable__label sk-toggleable__label-arrow\">KNeighborsClassifier</label><div class=\"sk-toggleable__content\"><pre>KNeighborsClassifier()</pre></div></div></div></div></div></div></div></div></div></div>"
      ],
      "text/plain": [
       "RandomizedSearchCV(cv=5, estimator=KNeighborsClassifier(),\n",
       "                   param_distributions=[{'n_neighbors': array([ 5, 10, 15, 20, 25, 30, 35, 40, 45, 50])}],\n",
       "                   scoring='accuracy')"
      ]
     },
     "execution_count": 45,
     "metadata": {},
     "output_type": "execute_result"
    }
   ],
   "source": [
    "%%time\n",
    "clf_rs = RandomizedSearchCV(KNeighborsClassifier(), tuned_parameters, cv=5, scoring='accuracy')\n",
    "clf_rs.fit(X_train, y_train)"
   ]
  },
  {
   "cell_type": "markdown",
   "id": "a9cd4ffc",
   "metadata": {},
   "source": [
    "Оптимальные параметры:"
   ]
  },
  {
   "cell_type": "code",
   "execution_count": 46,
   "id": "89fccded",
   "metadata": {},
   "outputs": [
    {
     "data": {
      "text/plain": [
       "(0.625, {'n_neighbors': 5})"
      ]
     },
     "execution_count": 46,
     "metadata": {},
     "output_type": "execute_result"
    }
   ],
   "source": [
    "clf_rs.best_score_, clf_rs.best_params_"
   ]
  },
  {
   "cell_type": "markdown",
   "id": "9f12a01f",
   "metadata": {},
   "source": [
    "Изменение качества на тестовой выборке в зависимости от К-соседей:"
   ]
  },
  {
   "cell_type": "code",
   "execution_count": 47,
   "id": "45765c20",
   "metadata": {
    "scrolled": true
   },
   "outputs": [
    {
     "data": {
      "text/plain": [
       "[<matplotlib.lines.Line2D at 0x1f09fb0d150>]"
      ]
     },
     "execution_count": 47,
     "metadata": {},
     "output_type": "execute_result"
    },
    {
     "data": {
      "image/png": "[encoded data removed]",
      "text/plain": [
       "<Figure size 640x480 with 1 Axes>"
      ]
     },
     "metadata": {},
     "output_type": "display_data"
    }
   ],
   "source": [
    "plt.plot(n_range, clf_rs.cv_results_['mean_test_score'])"
   ]
  },
  {
   "cell_type": "markdown",
   "id": "eeffd808",
   "metadata": {},
   "source": [
    "### Построение оптимальной модели"
   ]
  },
  {
   "cell_type": "markdown",
   "id": "8ca7fa6f",
   "metadata": {},
   "source": [
    "Оптимальное число ближайших соседей = 5. Построим оптимальную модель:"
   ]
  },
  {
   "cell_type": "code",
   "execution_count": 48,
   "id": "c8a681bb",
   "metadata": {},
   "outputs": [
    {
     "data": {
      "text/plain": [
       "(54,\n",
       " array([5, 7, 2, 2, 1, 1, 2, 1, 2, 1, 2, 1, 2, 1, 1, 2, 1, 1, 1, 1, 1, 7,\n",
       "        2, 1, 1, 1, 2, 2, 1, 1, 5, 6, 1, 1, 1, 2, 1, 1, 5, 1, 1, 7, 7, 1,\n",
       "        7, 1, 1, 1, 2, 7, 2, 2, 1, 2], dtype=int64))"
      ]
     },
     "execution_count": 48,
     "metadata": {},
     "output_type": "execute_result"
    }
   ],
   "source": [
    "clf_o = KNeighborsClassifier(n_neighbors=5)\n",
    "clf_o.fit(X_train, y_train)\n",
    "target_o = clf_o.predict(X_test)\n",
    "len(target_o), target_o"
   ]
  },
  {
   "cell_type": "markdown",
   "id": "1a1ad8d8",
   "metadata": {},
   "source": [
    "## Оценка качества исходной и оптимальной модели"
   ]
  },
  {
   "cell_type": "markdown",
   "id": "df50e6e7",
   "metadata": {},
   "source": [
    "### Метрика Accuracy"
   ]
  },
  {
   "cell_type": "markdown",
   "id": "7590c0fc",
   "metadata": {},
   "source": [
    "Она вычисляет процент (в долях) правильно определенных типов."
   ]
  },
  {
   "cell_type": "code",
   "execution_count": 49,
   "id": "c7837037",
   "metadata": {},
   "outputs": [],
   "source": [
    "from sklearn.metrics import accuracy_score, balanced_accuracy_score"
   ]
  },
  {
   "cell_type": "markdown",
   "id": "e4f2cdfb",
   "metadata": {},
   "source": [
    "Проверим для всех типов исходной модели:"
   ]
  },
  {
   "cell_type": "code",
   "execution_count": 50,
   "id": "a462224e",
   "metadata": {},
   "outputs": [
    {
     "data": {
      "text/plain": [
       "0.6851851851851852"
      ]
     },
     "execution_count": 50,
     "metadata": {},
     "output_type": "execute_result"
    }
   ],
   "source": [
    "accuracy_score(y_test, target_i)"
   ]
  },
  {
   "cell_type": "markdown",
   "id": "e22febc9",
   "metadata": {},
   "source": [
    "И оптимальной модели:"
   ]
  },
  {
   "cell_type": "code",
   "execution_count": 51,
   "id": "669550fd",
   "metadata": {},
   "outputs": [
    {
     "data": {
      "text/plain": [
       "0.7222222222222222"
      ]
     },
     "execution_count": 51,
     "metadata": {},
     "output_type": "execute_result"
    }
   ],
   "source": [
    "accuracy_score(y_test, target_o)"
   ]
  },
  {
   "cell_type": "markdown",
   "id": "dd984067",
   "metadata": {},
   "source": [
    "Видно, что точность оптимальной модели (5 ближайших соседей) выше, чем в исходной модели (20)."
   ]
  },
  {
   "cell_type": "markdown",
   "id": "86661a04",
   "metadata": {},
   "source": [
    "Теперь проверим для каждого конкретного типа:"
   ]
  },
  {
   "cell_type": "code",
   "execution_count": 52,
   "id": "74b5c1f2",
   "metadata": {},
   "outputs": [],
   "source": [
    "def accuracy_score_for_types(\n",
    "    y_true: np.ndarray, \n",
    "    y_pred: np.ndarray) -> Dict[int, float]:\n",
    "    d = {'t': y_true, 'p': y_pred}\n",
    "    df = pd.DataFrame(data=d)\n",
    "    types = np.unique(y_true)\n",
    "    res = dict()\n",
    "    for t in types:\n",
    "        temp_data_flt = df[df['t']==t]\n",
    "        temp_acc = accuracy_score(\n",
    "            temp_data_flt['t'].values, \n",
    "            temp_data_flt['p'].values)\n",
    "        res[t] = temp_acc\n",
    "    return res\n",
    "\n",
    "def print_accuracy_score_for_types(\n",
    "    y_true: np.ndarray, \n",
    "    y_pred: np.ndarray):\n",
    "    accs = accuracy_score_for_types(y_true, y_pred)\n",
    "    if len(accs)>0:\n",
    "        print('Тип \\t Accuracy')\n",
    "    for i in accs:\n",
    "        print('{} \\t {}'.format(i, accs[i]))"
   ]
  },
  {
   "cell_type": "markdown",
   "id": "214e7d4a",
   "metadata": {},
   "source": [
    "Для исходной модели:"
   ]
  },
  {
   "cell_type": "code",
   "execution_count": 53,
   "id": "254d099a",
   "metadata": {},
   "outputs": [
    {
     "name": "stdout",
     "output_type": "stream",
     "text": [
      "Тип \t Accuracy\n",
      "1 \t 0.8260869565217391\n",
      "2 \t 0.6875\n",
      "3 \t 0.0\n",
      "5 \t 1.0\n",
      "6 \t 0.0\n",
      "7 \t 1.0\n"
     ]
    }
   ],
   "source": [
    "print_accuracy_score_for_types(y_test, target_i)"
   ]
  },
  {
   "cell_type": "markdown",
   "id": "3d36f2fd",
   "metadata": {},
   "source": [
    "Видим, что процент \"Accuracy\" для типа 1 составляет 83%, для типа 2 - 68%, для типа 3 - 0%. Для типов 5, 6, 7 \"Accuracy\" составляет 100%."
   ]
  },
  {
   "cell_type": "markdown",
   "id": "714bd1f3",
   "metadata": {},
   "source": [
    "Для оптимальной модели:"
   ]
  },
  {
   "cell_type": "code",
   "execution_count": 54,
   "id": "3b4152c5",
   "metadata": {},
   "outputs": [
    {
     "name": "stdout",
     "output_type": "stream",
     "text": [
      "Тип \t Accuracy\n",
      "1 \t 0.8695652173913043\n",
      "2 \t 0.6875\n",
      "3 \t 0.0\n",
      "5 \t 1.0\n",
      "6 \t 1.0\n",
      "7 \t 1.0\n"
     ]
    }
   ],
   "source": [
    "print_accuracy_score_for_types(y_test, target_o)"
   ]
  },
  {
   "cell_type": "markdown",
   "id": "cf1c346e",
   "metadata": {},
   "source": [
    "Результаты схожи, но у типа 1 метрика составляет уже 87%."
   ]
  },
  {
   "cell_type": "markdown",
   "id": "d04c6cce",
   "metadata": {},
   "source": [
    "### Метрика balanced_accuracy_score"
   ]
  },
  {
   "cell_type": "markdown",
   "id": "0b78318c",
   "metadata": {},
   "source": [
    "Используется для бинарной классификации. Сконвертируем данные и выведем метрику:"
   ]
  },
  {
   "cell_type": "code",
   "execution_count": 55,
   "id": "149843e1",
   "metadata": {},
   "outputs": [],
   "source": [
    "def convert_target_to_binary(array:np.ndarray, target:int) -> np.ndarray:\n",
    "    res = [1 if x==target else 0 for x in array]\n",
    "    return res"
   ]
  },
  {
   "cell_type": "code",
   "execution_count": 56,
   "id": "e651d160",
   "metadata": {},
   "outputs": [
    {
     "data": {
      "text/plain": [
       "[(5, 0),\n",
       " (2, 1),\n",
       " (7, 0),\n",
       " (1, 0),\n",
       " (7, 0),\n",
       " (7, 0),\n",
       " (2, 1),\n",
       " (2, 1),\n",
       " (2, 1),\n",
       " (2, 1)]"
      ]
     },
     "execution_count": 56,
     "metadata": {},
     "output_type": "execute_result"
    }
   ],
   "source": [
    "bin_y_train = convert_target_to_binary(y_train, 2)\n",
    "list(zip(y_train, bin_y_train))[:10]"
   ]
  },
  {
   "cell_type": "code",
   "execution_count": 57,
   "id": "96b5fa27",
   "metadata": {},
   "outputs": [
    {
     "data": {
      "text/plain": [
       "[(2, 1),\n",
       " (7, 0),\n",
       " (2, 1),\n",
       " (2, 1),\n",
       " (1, 0),\n",
       " (1, 0),\n",
       " (1, 0),\n",
       " (3, 0),\n",
       " (1, 0),\n",
       " (1, 0)]"
      ]
     },
     "execution_count": 57,
     "metadata": {},
     "output_type": "execute_result"
    }
   ],
   "source": [
    "bin_y_test = convert_target_to_binary(y_test, 2)\n",
    "list(zip(y_test, bin_y_test))[:10]"
   ]
  },
  {
   "cell_type": "markdown",
   "id": "b8fcb97f",
   "metadata": {},
   "source": [
    "Для исходной модели:"
   ]
  },
  {
   "cell_type": "code",
   "execution_count": 58,
   "id": "8f126e35",
   "metadata": {},
   "outputs": [],
   "source": [
    "bin_target_i = convert_target_to_binary(target_i, 2)"
   ]
  },
  {
   "cell_type": "code",
   "execution_count": 59,
   "id": "a500659e",
   "metadata": {},
   "outputs": [
    {
     "data": {
      "text/plain": [
       "0.7516447368421053"
      ]
     },
     "execution_count": 59,
     "metadata": {},
     "output_type": "execute_result"
    }
   ],
   "source": [
    "balanced_accuracy_score(bin_y_test, bin_target_i)"
   ]
  },
  {
   "cell_type": "markdown",
   "id": "25eed308",
   "metadata": {},
   "source": [
    "Для оптимальной модели:"
   ]
  },
  {
   "cell_type": "code",
   "execution_count": 60,
   "id": "d7e126fe",
   "metadata": {},
   "outputs": [],
   "source": [
    "bin_target_o = convert_target_to_binary(target_o, 2)"
   ]
  },
  {
   "cell_type": "code",
   "execution_count": 61,
   "id": "4ef5dbca",
   "metadata": {},
   "outputs": [
    {
     "data": {
      "text/plain": [
       "0.7911184210526316"
      ]
     },
     "execution_count": 61,
     "metadata": {},
     "output_type": "execute_result"
    }
   ],
   "source": [
    "balanced_accuracy_score(bin_y_test, bin_target_o)"
   ]
  },
  {
   "cell_type": "markdown",
   "id": "7a1718c6",
   "metadata": {},
   "source": [
    "Видно, что у исходной модели метрика составляет 75%, а у оптимальной - 79%."
   ]
  },
  {
   "cell_type": "markdown",
   "id": "46ac32c0",
   "metadata": {},
   "source": [
    "### Метрика \"Матрица ошибок\""
   ]
  },
  {
   "cell_type": "markdown",
   "id": "ef6f3fa9",
   "metadata": {},
   "source": [
    "Создадим матрицу с помощью функции confusion_matrix:"
   ]
  },
  {
   "cell_type": "code",
   "execution_count": 62,
   "id": "45fe47eb",
   "metadata": {},
   "outputs": [],
   "source": [
    "from sklearn.metrics import ConfusionMatrixDisplay\n",
    "from sklearn.metrics import confusion_matrix"
   ]
  },
  {
   "cell_type": "markdown",
   "id": "b0eb2571",
   "metadata": {},
   "source": [
    "Для исходной модели:"
   ]
  },
  {
   "cell_type": "code",
   "execution_count": 63,
   "id": "b4b9918e",
   "metadata": {},
   "outputs": [
    {
     "data": {
      "text/plain": [
       "array([[ 0,  0,  0,  0,  0,  0,  0,  0],\n",
       "       [ 0, 19,  4,  0,  0,  0,  0,  0],\n",
       "       [ 0,  3, 11,  0,  0,  2,  0,  0],\n",
       "       [ 0,  4,  3,  0,  0,  0,  0,  0],\n",
       "       [ 0,  0,  0,  0,  0,  0,  0,  0],\n",
       "       [ 0,  0,  0,  0,  0,  1,  0,  0],\n",
       "       [ 0,  0,  0,  0,  0,  0,  0,  1],\n",
       "       [ 0,  0,  0,  0,  0,  0,  0,  6]], dtype=int64)"
      ]
     },
     "execution_count": 63,
     "metadata": {},
     "output_type": "execute_result"
    }
   ],
   "source": [
    "confusion_matrix(y_test, target_i, labels=[0, 1, 2, 3, 4, 5, 6, 7])"
   ]
  },
  {
   "cell_type": "markdown",
   "id": "7535dea6",
   "metadata": {},
   "source": [
    "Визуально представим матрицу ошибок, показывающую количество верно и ошибочно классифицированных данных:"
   ]
  },
  {
   "cell_type": "code",
   "execution_count": 64,
   "id": "07b35f8e",
   "metadata": {},
   "outputs": [
    {
     "data": {
      "text/plain": [
       "<sklearn.metrics._plot.confusion_matrix.ConfusionMatrixDisplay at 0x1f09fa65250>"
      ]
     },
     "execution_count": 64,
     "metadata": {},
     "output_type": "execute_result"
    },
    {
     "data": {
      "image/png": "[encoded data removed]",
      "text/plain": [
       "<Figure size 640x480 with 2 Axes>"
      ]
     },
     "metadata": {},
     "output_type": "display_data"
    }
   ],
   "source": [
    "ConfusionMatrixDisplay.from_estimator(\n",
    "        clf_i,\n",
    "        X_test,\n",
    "        y_test,\n",
    "        display_labels=clf_i.classes_,\n",
    "        cmap=plt.cm.Blues,\n",
    "        normalize='true',\n",
    "    )"
   ]
  },
  {
   "cell_type": "markdown",
   "id": "e40288be",
   "metadata": {},
   "source": [
    "Для оптимальной модели:"
   ]
  },
  {
   "cell_type": "code",
   "execution_count": 65,
   "id": "00717af1",
   "metadata": {},
   "outputs": [
    {
     "data": {
      "text/plain": [
       "array([[ 0,  0,  0,  0,  0,  0,  0,  0],\n",
       "       [ 0, 20,  3,  0,  0,  0,  0,  0],\n",
       "       [ 0,  3, 11,  0,  0,  2,  0,  0],\n",
       "       [ 0,  6,  1,  0,  0,  0,  0,  0],\n",
       "       [ 0,  0,  0,  0,  0,  0,  0,  0],\n",
       "       [ 0,  0,  0,  0,  0,  1,  0,  0],\n",
       "       [ 0,  0,  0,  0,  0,  0,  1,  0],\n",
       "       [ 0,  0,  0,  0,  0,  0,  0,  6]], dtype=int64)"
      ]
     },
     "execution_count": 65,
     "metadata": {},
     "output_type": "execute_result"
    }
   ],
   "source": [
    "confusion_matrix(y_test, target_o, labels=[0, 1, 2, 3, 4, 5, 6, 7])"
   ]
  },
  {
   "cell_type": "code",
   "execution_count": 66,
   "id": "3eb0cbb5",
   "metadata": {},
   "outputs": [
    {
     "data": {
      "text/plain": [
       "<sklearn.metrics._plot.confusion_matrix.ConfusionMatrixDisplay at 0x1f09f92b150>"
      ]
     },
     "execution_count": 66,
     "metadata": {},
     "output_type": "execute_result"
    },
    {
     "data": {
      "image/png": "[encoded data removed]",
      "text/plain": [
       "<Figure size 640x480 with 2 Axes>"
      ]
     },
     "metadata": {},
     "output_type": "display_data"
    }
   ],
   "source": [
    "ConfusionMatrixDisplay.from_estimator(\n",
    "        clf_o,\n",
    "        X_test,\n",
    "        y_test,\n",
    "        display_labels=clf_o.classes_,\n",
    "        cmap=plt.cm.Blues,\n",
    "        normalize='true',\n",
    "    )"
   ]
  },
  {
   "cell_type": "markdown",
   "id": "26ee5023",
   "metadata": {},
   "source": [
    "Точность у оптимальной модели выше, чем у исходной. "
   ]
  },
  {
   "cell_type": "markdown",
   "id": "9ea16d9f",
   "metadata": {},
   "source": [
    "### Метрика Precision"
   ]
  },
  {
   "cell_type": "markdown",
   "id": "af32afa0",
   "metadata": {},
   "source": [
    "Precision показывает долю верно предсказанных классификатором положительных объектов из всех объектов, которые классификатор верно или неверно определил как положительные."
   ]
  },
  {
   "cell_type": "code",
   "execution_count": 67,
   "id": "c5d9fa96",
   "metadata": {},
   "outputs": [],
   "source": [
    "from sklearn.metrics import precision_score"
   ]
  },
  {
   "cell_type": "markdown",
   "id": "c0a8a028",
   "metadata": {},
   "source": [
    "Для исходной модели:"
   ]
  },
  {
   "cell_type": "code",
   "execution_count": 68,
   "id": "16ac699f",
   "metadata": {},
   "outputs": [
    {
     "data": {
      "text/plain": [
       "0.6111111111111112"
      ]
     },
     "execution_count": 68,
     "metadata": {},
     "output_type": "execute_result"
    }
   ],
   "source": [
    "precision_score(bin_y_test, bin_target_i)"
   ]
  },
  {
   "cell_type": "markdown",
   "id": "e3718863",
   "metadata": {},
   "source": [
    "Для оптимальной модели:"
   ]
  },
  {
   "cell_type": "code",
   "execution_count": 69,
   "id": "80b9e811",
   "metadata": {},
   "outputs": [
    {
     "data": {
      "text/plain": [
       "0.7333333333333333"
      ]
     },
     "execution_count": 69,
     "metadata": {},
     "output_type": "execute_result"
    }
   ],
   "source": [
    "precision_score(bin_y_test, bin_target_o)"
   ]
  },
  {
   "cell_type": "markdown",
   "id": "d9cd3537",
   "metadata": {},
   "source": [
    "Также видна улучшенная точность у оптимальной по отношению к исходной (73% и 61%)."
   ]
  },
  {
   "cell_type": "markdown",
   "id": "5c181d33",
   "metadata": {},
   "source": [
    "### Метрика Recall"
   ]
  },
  {
   "cell_type": "markdown",
   "id": "f802b6c8",
   "metadata": {},
   "source": [
    "Recall показывает долю верно предсказанных классификатором положительных объектов, из всех действительно положительных объектов."
   ]
  },
  {
   "cell_type": "code",
   "execution_count": 70,
   "id": "4eac8a30",
   "metadata": {},
   "outputs": [],
   "source": [
    "from sklearn.metrics import recall_score"
   ]
  },
  {
   "cell_type": "markdown",
   "id": "986cc4b8",
   "metadata": {},
   "source": [
    "Для исходной:"
   ]
  },
  {
   "cell_type": "code",
   "execution_count": 71,
   "id": "b4dff7e6",
   "metadata": {},
   "outputs": [
    {
     "data": {
      "text/plain": [
       "0.6875"
      ]
     },
     "execution_count": 71,
     "metadata": {},
     "output_type": "execute_result"
    }
   ],
   "source": [
    "recall_score(bin_y_test, bin_target_i)"
   ]
  },
  {
   "cell_type": "markdown",
   "id": "5af296b0",
   "metadata": {},
   "source": [
    "Для оптимальной:"
   ]
  },
  {
   "cell_type": "code",
   "execution_count": 72,
   "id": "1df0c127",
   "metadata": {},
   "outputs": [
    {
     "data": {
      "text/plain": [
       "0.6875"
      ]
     },
     "execution_count": 72,
     "metadata": {},
     "output_type": "execute_result"
    }
   ],
   "source": [
    "recall_score(bin_y_test, bin_target_o)"
   ]
  },
  {
   "cell_type": "markdown",
   "id": "8d8428a8",
   "metadata": {},
   "source": [
    "Точность моделей одинакова - 69%."
   ]
  },
  {
   "cell_type": "markdown",
   "id": "f6a9f12a",
   "metadata": {},
   "source": [
    "### Метрика F1-мера"
   ]
  },
  {
   "cell_type": "markdown",
   "id": "36709ed2",
   "metadata": {},
   "source": [
    "Для объединения метрик Precision и Recall используют F-меру - среднее гармоническое от Precision и Recall. В F1 мере вес точности = 1."
   ]
  },
  {
   "cell_type": "code",
   "execution_count": 73,
   "id": "3978319e",
   "metadata": {},
   "outputs": [],
   "source": [
    "from sklearn.metrics import f1_score"
   ]
  },
  {
   "cell_type": "markdown",
   "id": "9183d26e",
   "metadata": {},
   "source": [
    "Для исходной:"
   ]
  },
  {
   "cell_type": "code",
   "execution_count": 74,
   "id": "3513f5ae",
   "metadata": {},
   "outputs": [
    {
     "data": {
      "text/plain": [
       "0.6470588235294118"
      ]
     },
     "execution_count": 74,
     "metadata": {},
     "output_type": "execute_result"
    }
   ],
   "source": [
    "f1_score(bin_y_test, bin_target_i)"
   ]
  },
  {
   "cell_type": "markdown",
   "id": "71391f7e",
   "metadata": {},
   "source": [
    "Для оптимальной:"
   ]
  },
  {
   "cell_type": "code",
   "execution_count": 75,
   "id": "f844516b",
   "metadata": {},
   "outputs": [
    {
     "data": {
      "text/plain": [
       "0.7096774193548386"
      ]
     },
     "execution_count": 75,
     "metadata": {},
     "output_type": "execute_result"
    }
   ],
   "source": [
    "f1_score(bin_y_test, bin_target_o)"
   ]
  },
  {
   "cell_type": "markdown",
   "id": "ada66c59",
   "metadata": {},
   "source": [
    "Точность оптимальной модели выше."
   ]
  },
  {
   "cell_type": "markdown",
   "id": "811db8e9",
   "metadata": {},
   "source": [
    "### Вывод метрик через classification_report"
   ]
  },
  {
   "cell_type": "markdown",
   "id": "458f83a6",
   "metadata": {},
   "source": [
    "Функция classification_report позволяет выводить значения точности, полноты и F-меры для всех классов выборки:"
   ]
  },
  {
   "cell_type": "code",
   "execution_count": 76,
   "id": "7103e601",
   "metadata": {},
   "outputs": [],
   "source": [
    "from sklearn.metrics import classification_report"
   ]
  },
  {
   "cell_type": "markdown",
   "id": "db39562d",
   "metadata": {},
   "source": [
    "Для исходной:"
   ]
  },
  {
   "cell_type": "code",
   "execution_count": 77,
   "id": "1616226a",
   "metadata": {},
   "outputs": [
    {
     "data": {
      "text/plain": [
       "{1: {'precision': 0.7307692307692307,\n",
       "  'recall': 0.8260869565217391,\n",
       "  'f1-score': 0.7755102040816326,\n",
       "  'support': 23.0},\n",
       " 2: {'precision': 0.6111111111111112,\n",
       "  'recall': 0.6875,\n",
       "  'f1-score': 0.6470588235294118,\n",
       "  'support': 16.0},\n",
       " 3: {'precision': 0.0, 'recall': 0.0, 'f1-score': 0.0, 'support': 7.0},\n",
       " 5: {'precision': 0.3333333333333333,\n",
       "  'recall': 1.0,\n",
       "  'f1-score': 0.5,\n",
       "  'support': 1.0},\n",
       " 6: {'precision': 0.0, 'recall': 0.0, 'f1-score': 0.0, 'support': 1.0},\n",
       " 7: {'precision': 0.8571428571428571,\n",
       "  'recall': 1.0,\n",
       "  'f1-score': 0.923076923076923,\n",
       "  'support': 6.0},\n",
       " 'accuracy': 0.6851851851851852,\n",
       " 'macro avg': {'precision': 0.42205942205942204,\n",
       "  'recall': 0.5855978260869565,\n",
       "  'f1-score': 0.4742743251146612,\n",
       "  'support': 54.0},\n",
       " 'weighted avg': {'precision': 0.593734454845566,\n",
       "  'recall': 0.6851851851851852,\n",
       "  'f1-score': 0.6338543964594385,\n",
       "  'support': 54.0}}"
      ]
     },
     "execution_count": 77,
     "metadata": {},
     "output_type": "execute_result"
    }
   ],
   "source": [
    "import warnings\n",
    "warnings.filterwarnings('ignore')\n",
    "classification_report(y_test, target_i, \n",
    "                      target_names=clf_i.classes_, output_dict=True)"
   ]
  },
  {
   "cell_type": "markdown",
   "id": "b151cd84",
   "metadata": {},
   "source": [
    "Для оптимальной:"
   ]
  },
  {
   "cell_type": "code",
   "execution_count": 78,
   "id": "fd69b0a6",
   "metadata": {},
   "outputs": [
    {
     "data": {
      "text/plain": [
       "{1: {'precision': 0.6896551724137931,\n",
       "  'recall': 0.8695652173913043,\n",
       "  'f1-score': 0.7692307692307693,\n",
       "  'support': 23.0},\n",
       " 2: {'precision': 0.7333333333333333,\n",
       "  'recall': 0.6875,\n",
       "  'f1-score': 0.7096774193548386,\n",
       "  'support': 16.0},\n",
       " 3: {'precision': 0.0, 'recall': 0.0, 'f1-score': 0.0, 'support': 7.0},\n",
       " 5: {'precision': 0.3333333333333333,\n",
       "  'recall': 1.0,\n",
       "  'f1-score': 0.5,\n",
       "  'support': 1.0},\n",
       " 6: {'precision': 1.0, 'recall': 1.0, 'f1-score': 1.0, 'support': 1.0},\n",
       " 7: {'precision': 1.0, 'recall': 1.0, 'f1-score': 1.0, 'support': 6.0},\n",
       " 'accuracy': 0.7222222222222222,\n",
       " 'macro avg': {'precision': 0.6260536398467433,\n",
       "  'recall': 0.7595108695652174,\n",
       "  'f1-score': 0.6631513647642681,\n",
       "  'support': 54.0},\n",
       " 'weighted avg': {'precision': 0.6468284376330352,\n",
       "  'recall': 0.7222222222222222,\n",
       "  'f1-score': 0.6767990074441687,\n",
       "  'support': 54.0}}"
      ]
     },
     "execution_count": 78,
     "metadata": {},
     "output_type": "execute_result"
    }
   ],
   "source": [
    "import warnings\n",
    "warnings.filterwarnings('ignore')\n",
    "classification_report(y_test, target_o, \n",
    "                      target_names=clf_o.classes_, output_dict=True)"
   ]
  },
  {
   "cell_type": "markdown",
   "id": "cce266ae",
   "metadata": {},
   "source": [
    "### ROC-кривая и ROC AUC"
   ]
  },
  {
   "cell_type": "markdown",
   "id": "7a259016",
   "metadata": {},
   "source": [
    "Используется для оценки качества бинарной классификации."
   ]
  },
  {
   "cell_type": "markdown",
   "id": "db2ba8ae",
   "metadata": {},
   "source": [
    "Обучим исходную модель на основе бинарной классифкации, чтобы получить вероятности типов:"
   ]
  },
  {
   "cell_type": "code",
   "execution_count": 79,
   "id": "d6ad55e2",
   "metadata": {},
   "outputs": [
    {
     "data": {
      "text/plain": [
       "array([0, 0, 0, 0, 0, 0, 1, 0, 1, 0, 1, 0, 1, 0, 0, 0, 0, 0, 0, 0, 0, 0,\n",
       "       1, 0, 0, 0, 1, 1, 0, 0, 0, 0, 0, 0, 0, 0, 1, 0, 0, 0, 0, 0, 0, 0,\n",
       "       0, 0, 1, 0, 1, 0, 0, 1, 0, 1])"
      ]
     },
     "execution_count": 79,
     "metadata": {},
     "output_type": "execute_result"
    }
   ],
   "source": [
    "bin_clf_i = KNeighborsClassifier(n_neighbors=20)\n",
    "bin_clf_i.fit(X_train, bin_y_train)\n",
    "bin_clf_i.predict(X_test)"
   ]
  },
  {
   "cell_type": "markdown",
   "id": "322ec90f",
   "metadata": {},
   "source": [
    "Предскажем вероятности типов:"
   ]
  },
  {
   "cell_type": "code",
   "execution_count": 80,
   "id": "afa172b9",
   "metadata": {},
   "outputs": [
    {
     "data": {
      "text/plain": [
       "(54,\n",
       " array([[0.75, 0.25],\n",
       "        [1.  , 0.  ],\n",
       "        [0.55, 0.45],\n",
       "        [0.55, 0.45],\n",
       "        [0.6 , 0.4 ],\n",
       "        [0.8 , 0.2 ],\n",
       "        [0.45, 0.55],\n",
       "        [0.7 , 0.3 ],\n",
       "        [0.3 , 0.7 ],\n",
       "        [0.75, 0.25],\n",
       "        [0.2 , 0.8 ],\n",
       "        [0.95, 0.05],\n",
       "        [0.45, 0.55],\n",
       "        [0.8 , 0.2 ],\n",
       "        [0.65, 0.35],\n",
       "        [0.55, 0.45],\n",
       "        [0.55, 0.45],\n",
       "        [0.75, 0.25],\n",
       "        [0.95, 0.05],\n",
       "        [0.95, 0.05],\n",
       "        [0.8 , 0.2 ],\n",
       "        [1.  , 0.  ],\n",
       "        [0.25, 0.75],\n",
       "        [0.75, 0.25],\n",
       "        [0.6 , 0.4 ],\n",
       "        [0.65, 0.35],\n",
       "        [0.15, 0.85],\n",
       "        [0.3 , 0.7 ],\n",
       "        [0.5 , 0.5 ],\n",
       "        [0.9 , 0.1 ],\n",
       "        [0.75, 0.25],\n",
       "        [0.85, 0.15],\n",
       "        [0.8 , 0.2 ],\n",
       "        [0.75, 0.25],\n",
       "        [0.8 , 0.2 ],\n",
       "        [0.55, 0.45],\n",
       "        [0.45, 0.55],\n",
       "        [0.55, 0.45],\n",
       "        [0.75, 0.25],\n",
       "        [0.8 , 0.2 ],\n",
       "        [0.8 , 0.2 ],\n",
       "        [1.  , 0.  ],\n",
       "        [1.  , 0.  ],\n",
       "        [0.9 , 0.1 ],\n",
       "        [1.  , 0.  ],\n",
       "        [0.75, 0.25],\n",
       "        [0.4 , 0.6 ],\n",
       "        [0.85, 0.15],\n",
       "        [0.2 , 0.8 ],\n",
       "        [1.  , 0.  ],\n",
       "        [0.65, 0.35],\n",
       "        [0.4 , 0.6 ],\n",
       "        [0.8 , 0.2 ],\n",
       "        [0.3 , 0.7 ]]))"
      ]
     },
     "execution_count": 80,
     "metadata": {},
     "output_type": "execute_result"
    }
   ],
   "source": [
    "proba_target_i = bin_clf_i.predict_proba(X_test)\n",
    "len(proba_target_i), proba_target_i"
   ]
  },
  {
   "cell_type": "markdown",
   "id": "29804f15",
   "metadata": {},
   "source": [
    "Вероятность единичного класса:"
   ]
  },
  {
   "cell_type": "code",
   "execution_count": 81,
   "id": "7c7db20b",
   "metadata": {},
   "outputs": [
    {
     "data": {
      "text/plain": [
       "array([0.25, 0.  , 0.45, 0.45, 0.4 , 0.2 , 0.55, 0.3 , 0.7 , 0.25, 0.8 ,\n",
       "       0.05, 0.55, 0.2 , 0.35, 0.45, 0.45, 0.25, 0.05, 0.05, 0.2 , 0.  ,\n",
       "       0.75, 0.25, 0.4 , 0.35, 0.85, 0.7 , 0.5 , 0.1 , 0.25, 0.15, 0.2 ,\n",
       "       0.25, 0.2 , 0.45, 0.55, 0.45, 0.25, 0.2 , 0.2 , 0.  , 0.  , 0.1 ,\n",
       "       0.  , 0.25, 0.6 , 0.15, 0.8 , 0.  , 0.35, 0.6 , 0.2 , 0.7 ])"
      ]
     },
     "execution_count": 81,
     "metadata": {},
     "output_type": "execute_result"
    }
   ],
   "source": [
    "true_proba_target_i = proba_target_i[:,1]\n",
    "true_proba_target_i"
   ]
  },
  {
   "cell_type": "markdown",
   "id": "ea841a4e",
   "metadata": {},
   "source": [
    "ROC-кривая:"
   ]
  },
  {
   "cell_type": "code",
   "execution_count": 82,
   "id": "2eb005e3",
   "metadata": {},
   "outputs": [],
   "source": [
    "from sklearn.metrics import roc_curve, roc_auc_score"
   ]
  },
  {
   "cell_type": "code",
   "execution_count": 83,
   "id": "5c1d0459",
   "metadata": {},
   "outputs": [],
   "source": [
    "def draw_roc_curve(y_true, y_score, pos_label, average):\n",
    "    fpr, tpr, thresholds = roc_curve(y_true, y_score, \n",
    "                                     pos_label=pos_label)\n",
    "    roc_auc_value = roc_auc_score(y_true, y_score, average=average)\n",
    "    plt.figure()\n",
    "    lw = 2\n",
    "    plt.plot(fpr, tpr, color='darkorange',\n",
    "             lw=lw, label='ROC curve (area = %0.2f)' % roc_auc_value)\n",
    "    plt.plot([0, 1], [0, 1], color='navy', lw=lw, linestyle='--')\n",
    "    plt.xlim([0.0, 1.0])\n",
    "    plt.ylim([0.0, 1.05])\n",
    "    plt.xlabel('False Positive Rate')\n",
    "    plt.ylabel('True Positive Rate')\n",
    "    plt.title('Receiver operating characteristic')\n",
    "    plt.legend(loc=\"lower right\")\n",
    "    plt.show()"
   ]
  },
  {
   "cell_type": "code",
   "execution_count": 84,
   "id": "1f5ea0d6",
   "metadata": {},
   "outputs": [
    {
     "data": {
      "image/png": "[encoded data removed]",
      "text/plain": [
       "<Figure size 640x480 with 1 Axes>"
      ]
     },
     "metadata": {},
     "output_type": "display_data"
    }
   ],
   "source": [
    "draw_roc_curve(bin_y_test, bin_target_i, pos_label=1, average='micro')"
   ]
  },
  {
   "cell_type": "markdown",
   "id": "e5fd24d5",
   "metadata": {},
   "source": [
    "Сделаем тоже самое для оптимальной модели:"
   ]
  },
  {
   "cell_type": "code",
   "execution_count": 85,
   "id": "d2c96d60",
   "metadata": {},
   "outputs": [
    {
     "data": {
      "text/plain": [
       "array([0, 0, 1, 1, 0, 0, 1, 0, 1, 0, 1, 0, 1, 0, 0, 1, 0, 0, 0, 0, 0, 0,\n",
       "       1, 0, 0, 0, 1, 1, 0, 0, 0, 0, 0, 0, 0, 1, 0, 0, 0, 0, 0, 0, 0, 0,\n",
       "       0, 0, 0, 0, 1, 0, 1, 1, 0, 1])"
      ]
     },
     "execution_count": 85,
     "metadata": {},
     "output_type": "execute_result"
    }
   ],
   "source": [
    "bin_clf_o = KNeighborsClassifier(n_neighbors=5)\n",
    "bin_clf_o.fit(X_train, bin_y_train)\n",
    "bin_clf_o.predict(X_test)"
   ]
  },
  {
   "cell_type": "code",
   "execution_count": 86,
   "id": "98fb506d",
   "metadata": {},
   "outputs": [
    {
     "data": {
      "text/plain": [
       "(54,\n",
       " array([[1. , 0. ],\n",
       "        [1. , 0. ],\n",
       "        [0.4, 0.6],\n",
       "        [0.2, 0.8],\n",
       "        [0.8, 0.2],\n",
       "        [1. , 0. ],\n",
       "        [0.4, 0.6],\n",
       "        [0.8, 0.2],\n",
       "        [0.4, 0.6],\n",
       "        [1. , 0. ],\n",
       "        [0. , 1. ],\n",
       "        [1. , 0. ],\n",
       "        [0.2, 0.8],\n",
       "        [1. , 0. ],\n",
       "        [1. , 0. ],\n",
       "        [0.2, 0.8],\n",
       "        [0.6, 0.4],\n",
       "        [0.8, 0.2],\n",
       "        [1. , 0. ],\n",
       "        [1. , 0. ],\n",
       "        [0.8, 0.2],\n",
       "        [1. , 0. ],\n",
       "        [0.2, 0.8],\n",
       "        [1. , 0. ],\n",
       "        [0.8, 0.2],\n",
       "        [0.8, 0.2],\n",
       "        [0.2, 0.8],\n",
       "        [0. , 1. ],\n",
       "        [0.8, 0.2],\n",
       "        [1. , 0. ],\n",
       "        [1. , 0. ],\n",
       "        [0.8, 0.2],\n",
       "        [1. , 0. ],\n",
       "        [1. , 0. ],\n",
       "        [0.8, 0.2],\n",
       "        [0.4, 0.6],\n",
       "        [0.8, 0.2],\n",
       "        [0.8, 0.2],\n",
       "        [0.8, 0.2],\n",
       "        [1. , 0. ],\n",
       "        [1. , 0. ],\n",
       "        [1. , 0. ],\n",
       "        [1. , 0. ],\n",
       "        [1. , 0. ],\n",
       "        [1. , 0. ],\n",
       "        [0.8, 0.2],\n",
       "        [0.6, 0.4],\n",
       "        [1. , 0. ],\n",
       "        [0.2, 0.8],\n",
       "        [1. , 0. ],\n",
       "        [0.4, 0.6],\n",
       "        [0.4, 0.6],\n",
       "        [0.6, 0.4],\n",
       "        [0. , 1. ]]))"
      ]
     },
     "execution_count": 86,
     "metadata": {},
     "output_type": "execute_result"
    }
   ],
   "source": [
    "proba_target_o = bin_clf_o.predict_proba(X_test)\n",
    "len(proba_target_o), proba_target_o"
   ]
  },
  {
   "cell_type": "code",
   "execution_count": 87,
   "id": "f769c013",
   "metadata": {},
   "outputs": [
    {
     "data": {
      "text/plain": [
       "array([0. , 0. , 0.6, 0.8, 0.2, 0. , 0.6, 0.2, 0.6, 0. , 1. , 0. , 0.8,\n",
       "       0. , 0. , 0.8, 0.4, 0.2, 0. , 0. , 0.2, 0. , 0.8, 0. , 0.2, 0.2,\n",
       "       0.8, 1. , 0.2, 0. , 0. , 0.2, 0. , 0. , 0.2, 0.6, 0.2, 0.2, 0.2,\n",
       "       0. , 0. , 0. , 0. , 0. , 0. , 0.2, 0.4, 0. , 0.8, 0. , 0.6, 0.6,\n",
       "       0.4, 1. ])"
      ]
     },
     "execution_count": 87,
     "metadata": {},
     "output_type": "execute_result"
    }
   ],
   "source": [
    "true_proba_target_o = proba_target_o[:,1]\n",
    "true_proba_target_o"
   ]
  },
  {
   "cell_type": "code",
   "execution_count": 88,
   "id": "b6473637",
   "metadata": {},
   "outputs": [
    {
     "data": {
      "image/png": "[encoded data removed]",
      "text/plain": [
       "<Figure size 640x480 with 1 Axes>"
      ]
     },
     "metadata": {},
     "output_type": "display_data"
    }
   ],
   "source": [
    "draw_roc_curve(bin_y_test, bin_target_o, pos_label=1, average='micro')"
   ]
  },
  {
   "cell_type": "markdown",
   "id": "05171c4b",
   "metadata": {},
   "source": [
    "Видно, что у оптимальной модели выше точность, чем у исходной."
   ]
  }
 ],
 "metadata": {
  "authors": [
   {
    "name": "Анцифров Никита Сергеевич"
   }
  ],
  "group": "ИУ5-61Б",
  "kernelspec": {
   "display_name": "Python 3 (ipykernel)",
   "language": "python",
   "name": "python3"
  },
  "lab_number": 3,
  "language_info": {
   "codemirror_mode": {
    "name": "ipython",
    "version": 3
   },
   "file_extension": ".py",
   "mimetype": "text/x-python",
   "name": "python",
   "nbconvert_exporter": "python",
   "pygments_lexer": "ipython3",
   "version": "3.11.5"
  },
  "title": "Подготовка обучающей и тестовой выборки, кросс-валидация и подбор гиперпараметров на примере метода ближайших соседей"
 },
 "nbformat": 4,
 "nbformat_minor": 5
}
