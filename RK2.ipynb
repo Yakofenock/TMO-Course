{
  "cells": [
    {
      "cell_type": "markdown",
      "metadata": {
        "id": "qEtqfPSf_jvU"
      },
      "source": [
        "# Рубежный контроль №2\n",
        "## Заграничный Яков Вариант 10\n",
        "Метод 1 - Дерево решений\n",
        "\n",
        "Метод 2 - Градиентный бустинг"
      ]
    },
    {
      "cell_type": "markdown",
      "metadata": {
        "id": "3odF_zX3AoUh"
      },
      "source": [
        "Импортируем необходимые библиотеки"
      ]
    },
    {
      "cell_type": "code",
      "execution_count": 49,
      "metadata": {
        "id": "wYS4WgjvFaCl"
      },
      "outputs": [],
      "source": [
        "import pandas as pd\n",
        "from sklearn.preprocessing import LabelEncoder\n",
        "import numpy as np\n",
        "import seaborn as sns\n",
        "import matplotlib.pyplot as plt\n",
        "from sklearn.model_selection import train_test_split\n",
        "from sklearn.tree import DecisionTreeRegressor \n",
        "from sklearn.ensemble import GradientBoostingRegressor\n",
        "from sklearn.metrics import mean_squared_error,mean_absolute_percentage_error\n",
        "from sklearn.model_selection import train_test_split"
      ]
    },
    {
      "cell_type": "code",
      "execution_count": 50,
      "metadata": {
        "id": "eD1iTdFuFfhS"
      },
      "outputs": [],
      "source": [
        "# Уберем все остальные стоимости, нас будет интересовать только общая\n",
        "cols_drop = ['hoa', 'rent amount','property tax', 'fire insurance', 'Unnamed: 0']\n",
        "data = original_data.drop(cols_drop, axis = 1)\n"
      ]
    },
    {
      "cell_type": "code",
      "execution_count": 51,
      "metadata": {
        "colab": {
          "base_uri": "https://localhost:8080/",
          "height": 206
        },
        "id": "jKRm8Zt5FmK2",
        "outputId": "edefcb7a-f333-4ac9-b151-4d4e92088c6c"
      },
      "outputs": [],
      "source": [
        "# Обработаем целевой признак, преобразуем его в числовой формат\n",
        "data['total'] = data['total'].replace({'R\\$': '', ',': ''}, regex=True).astype(int)"
      ]
    },
    {
      "cell_type": "code",
      "execution_count": 52,
      "metadata": {
        "colab": {
          "base_uri": "https://localhost:8080/"
        },
        "id": "xFhWyZQKFmZV",
        "outputId": "6752b5ae-a304-4bd5-d2bf-56b082788406"
      },
      "outputs": [],
      "source": [
        "# Избавимся от выбросов\n",
        "data = data[data['total'] <= 20000]"
      ]
    },
    {
      "cell_type": "code",
      "execution_count": 56,
      "metadata": {},
      "outputs": [
        {
          "data": {
            "text/plain": [
              "city               int64\n",
              "area               int64\n",
              "rooms              int64\n",
              "bathroom           int64\n",
              "parking spaces     int64\n",
              "floor             object\n",
              "animal            object\n",
              "furniture         object\n",
              "total              int32\n",
              "dtype: object"
            ]
          },
          "execution_count": 56,
          "metadata": {},
          "output_type": "execute_result"
        }
      ],
      "source": [
        "data.dtypes"
      ]
    },
    {
      "cell_type": "code",
      "execution_count": 61,
      "metadata": {},
      "outputs": [],
      "source": [
        "\n",
        "for col in data.select_dtypes(include=['object']).columns:\n",
        "    le = LabelEncoder()\n",
        "    data[col] = le.fit_transform(data[col].astype(str))\n",
        " #убираем нулевые данные\n",
        "if data.isnull().sum().sum() > 0:\n",
        "    from sklearn.impute import SimpleImputer\n",
        "    imputer = SimpleImputer(strategy='mean')\n",
        "    data = pd.DataFrame(imputer.fit_transform(data), columns=data.columns)"
      ]
    },
    {
      "cell_type": "markdown",
      "metadata": {
        "id": "-BgY0fc3AswM"
      },
      "source": [
        "Разделим выборку на обучающую и тренировочную"
      ]
    },
    {
      "cell_type": "code",
      "execution_count": 62,
      "metadata": {
        "id": "yJ62R01pFpG1"
      },
      "outputs": [],
      "source": [
        "X_train,X_test,y_train,y_test = train_test_split(data.drop('total',axis=1),data['total'],test_size=0.2, random_state=42)\n"
      ]
    },
    {
      "cell_type": "markdown",
      "metadata": {
        "id": "x_rBO1e8A3E6"
      },
      "source": [
        "Обучим требуемые модели"
      ]
    },
    {
      "cell_type": "code",
      "execution_count": 63,
      "metadata": {
        "colab": {
          "base_uri": "https://localhost:8080/",
          "height": 74
        },
        "id": "zL7gbUUGGzuC",
        "outputId": "8ae6fb71-3d19-4519-aa92-1c0882136a51"
      },
      "outputs": [
        {
          "data": {
            "text/plain": [
              "DecisionTreeRegressor(random_state=42)"
            ]
          },
          "execution_count": 63,
          "metadata": {},
          "output_type": "execute_result"
        }
      ],
      "source": [
        "rgs_lin = DecisionTreeRegressor (random_state=42)\n",
        "rgs_lin.fit(X_train, y_train)"
      ]
    },
    {
      "cell_type": "code",
      "execution_count": 64,
      "metadata": {
        "colab": {
          "base_uri": "https://localhost:8080/",
          "height": 74
        },
        "id": "rdzzwnuhHBj0",
        "outputId": "38b56aa7-987d-4db9-942e-2fece406a3f5"
      },
      "outputs": [
        {
          "data": {
            "text/plain": [
              "GradientBoostingRegressor(n_estimators=200)"
            ]
          },
          "execution_count": 64,
          "metadata": {},
          "output_type": "execute_result"
        }
      ],
      "source": [
        "rgs_gbt = GradientBoostingRegressor(n_estimators=200)\n",
        "rgs_gbt.fit(X_train,y_train)"
      ]
    },
    {
      "cell_type": "markdown",
      "metadata": {
        "id": "18d6OHngA7gz"
      },
      "source": [
        "Оценим качество"
      ]
    },
    {
      "cell_type": "code",
      "execution_count": 65,
      "metadata": {
        "colab": {
          "base_uri": "https://localhost:8080/"
        },
        "id": "lVndA67QHMEE",
        "outputId": "cb68da9f-bcd4-48fe-8276-612d7b865ae7"
      },
      "outputs": [
        {
          "name": "stdout",
          "output_type": "stream",
          "text": [
            "DecisionTreeRegressor:\n",
            "\t MSE = 11978878.398016619\n",
            "\t MAPE = 0.3993031558568638\n",
            "GradientBoostingRegressor:\n",
            "\t MSE = 5469008.36048727\n",
            "\t MAPE = 0.32094578242671257\n"
          ]
        }
      ],
      "source": [
        "models = [rgs_lin,rgs_gbt]\n",
        "for rgs in models:\n",
        "    print(f\"{type(rgs).__name__}:\")\n",
        "    print('\\t',f\"MSE = {mean_squared_error(y_test,rgs.predict(X_test))}\")\n",
        "    print('\\t',f\"MAPE = {mean_absolute_percentage_error(y_test,rgs.predict(X_test))}\")"
      ]
    },
    {
      "cell_type": "markdown",
      "metadata": {
        "id": "5DHBvetJBC0-"
      },
      "source": []
    }
  ],
  "metadata": {
    "colab": {
      "provenance": []
    },
    "kernelspec": {
      "display_name": "Python 3",
      "name": "python3"
    },
    "language_info": {
      "codemirror_mode": {
        "name": "ipython",
        "version": 3
      },
      "file_extension": ".py",
      "mimetype": "text/x-python",
      "name": "python",
      "nbconvert_exporter": "python",
      "pygments_lexer": "ipython3",
      "version": "3.7.0"
    }
  },
  "nbformat": 4,
  "nbformat_minor": 0
}
